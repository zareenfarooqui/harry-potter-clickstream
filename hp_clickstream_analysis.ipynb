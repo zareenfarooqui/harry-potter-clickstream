{
 "cells": [
  {
   "cell_type": "code",
   "execution_count": 1,
   "metadata": {
    "collapsed": true
   },
   "outputs": [],
   "source": [
    "import pandas as pd"
   ]
  },
  {
   "cell_type": "code",
   "execution_count": 3,
   "metadata": {
    "collapsed": false
   },
   "outputs": [],
   "source": [
    "df = pd.read_csv(\"/Users/ZareenFarooqui/Dropbox/Programming/2016_03_clickstream.tsv\", sep='\\t', header=0)"
   ]
  },
  {
   "cell_type": "code",
   "execution_count": 4,
   "metadata": {
    "collapsed": false
   },
   "outputs": [
    {
     "data": {
      "text/html": [
       "<div>\n",
       "<table border=\"1\" class=\"dataframe\">\n",
       "  <thead>\n",
       "    <tr style=\"text-align: right;\">\n",
       "      <th></th>\n",
       "      <th>prev</th>\n",
       "      <th>curr</th>\n",
       "      <th>type</th>\n",
       "      <th>n</th>\n",
       "    </tr>\n",
       "  </thead>\n",
       "  <tbody>\n",
       "    <tr>\n",
       "      <th>0</th>\n",
       "      <td>Wild_Bill_Hickok</td>\n",
       "      <td>Deadwood,_South_Dakota</td>\n",
       "      <td>link</td>\n",
       "      <td>18</td>\n",
       "    </tr>\n",
       "    <tr>\n",
       "      <th>1</th>\n",
       "      <td>(Ghost)_Riders_in_the_Sky:_A_Cowboy_Legend</td>\n",
       "      <td>Stan_Jones_(songwriter)</td>\n",
       "      <td>link</td>\n",
       "      <td>410</td>\n",
       "    </tr>\n",
       "    <tr>\n",
       "      <th>2</th>\n",
       "      <td>(Hey_You)_The_Rock_Steady_Crew</td>\n",
       "      <td>Rock_Steady_Crew</td>\n",
       "      <td>link</td>\n",
       "      <td>75</td>\n",
       "    </tr>\n",
       "    <tr>\n",
       "      <th>3</th>\n",
       "      <td>(Miss)understood</td>\n",
       "      <td>Heaven_(Ayumi_Hamasaki_song)</td>\n",
       "      <td>link</td>\n",
       "      <td>13</td>\n",
       "    </tr>\n",
       "  </tbody>\n",
       "</table>\n",
       "</div>"
      ],
      "text/plain": [
       "                                         prev                          curr  \\\n",
       "0                            Wild_Bill_Hickok        Deadwood,_South_Dakota   \n",
       "1  (Ghost)_Riders_in_the_Sky:_A_Cowboy_Legend       Stan_Jones_(songwriter)   \n",
       "2              (Hey_You)_The_Rock_Steady_Crew              Rock_Steady_Crew   \n",
       "3                            (Miss)understood  Heaven_(Ayumi_Hamasaki_song)   \n",
       "\n",
       "   type    n  \n",
       "0  link   18  \n",
       "1  link  410  \n",
       "2  link   75  \n",
       "3  link   13  "
      ]
     },
     "execution_count": 4,
     "metadata": {},
     "output_type": "execute_result"
    }
   ],
   "source": [
    "df.head(4)"
   ]
  },
  {
   "cell_type": "code",
   "execution_count": 9,
   "metadata": {
    "collapsed": false
   },
   "outputs": [
    {
     "data": {
      "text/html": [
       "<div>\n",
       "<table border=\"1\" class=\"dataframe\">\n",
       "  <thead>\n",
       "    <tr style=\"text-align: right;\">\n",
       "      <th></th>\n",
       "      <th>prev</th>\n",
       "      <th>curr</th>\n",
       "      <th>type</th>\n",
       "      <th>n</th>\n",
       "    </tr>\n",
       "  </thead>\n",
       "  <tbody>\n",
       "    <tr>\n",
       "      <th>25615003</th>\n",
       "      <td>other-yahoo</td>\n",
       "      <td>Šid</td>\n",
       "      <td>external</td>\n",
       "      <td>23</td>\n",
       "    </tr>\n",
       "    <tr>\n",
       "      <th>25615004</th>\n",
       "      <td>other-yahoo</td>\n",
       "      <td>Škoda_1000_MB</td>\n",
       "      <td>external</td>\n",
       "      <td>14</td>\n",
       "    </tr>\n",
       "    <tr>\n",
       "      <th>25615005</th>\n",
       "      <td>other-yahoo</td>\n",
       "      <td>Ż</td>\n",
       "      <td>external</td>\n",
       "      <td>16</td>\n",
       "    </tr>\n",
       "    <tr>\n",
       "      <th>25615006</th>\n",
       "      <td>other-yahoo</td>\n",
       "      <td>Željko_Lučić</td>\n",
       "      <td>external</td>\n",
       "      <td>11</td>\n",
       "    </tr>\n",
       "  </tbody>\n",
       "</table>\n",
       "</div>"
      ],
      "text/plain": [
       "                 prev           curr      type   n\n",
       "25615003  other-yahoo            Šid  external  23\n",
       "25615004  other-yahoo  Škoda_1000_MB  external  14\n",
       "25615005  other-yahoo              Ż  external  16\n",
       "25615006  other-yahoo   Željko_Lučić  external  11"
      ]
     },
     "execution_count": 9,
     "metadata": {},
     "output_type": "execute_result"
    }
   ],
   "source": [
    "df.tail(4)"
   ]
  },
  {
   "cell_type": "code",
   "execution_count": 5,
   "metadata": {
    "collapsed": false
   },
   "outputs": [
    {
     "data": {
      "text/plain": [
       "Index([u'prev', u'curr', u'type', u'n'], dtype='object')"
      ]
     },
     "execution_count": 5,
     "metadata": {},
     "output_type": "execute_result"
    }
   ],
   "source": [
    "df.columns"
   ]
  },
  {
   "cell_type": "code",
   "execution_count": 7,
   "metadata": {
    "collapsed": false
   },
   "outputs": [
    {
     "name": "stdout",
     "output_type": "stream",
     "text": [
      "<class 'pandas.core.frame.DataFrame'>\n",
      "RangeIndex: 25615007 entries, 0 to 25615006\n",
      "Data columns (total 4 columns):\n",
      "prev    object\n",
      "curr    object\n",
      "type    object\n",
      "n       int64\n",
      "dtypes: int64(1), object(3)\n",
      "memory usage: 781.7+ MB\n"
     ]
    }
   ],
   "source": [
    "df.info()"
   ]
  },
  {
   "cell_type": "code",
   "execution_count": 11,
   "metadata": {
    "collapsed": false
   },
   "outputs": [
    {
     "data": {
      "text/plain": [
       "prev    object\n",
       "curr    object\n",
       "type    object\n",
       "n        int64\n",
       "dtype: object"
      ]
     },
     "execution_count": 11,
     "metadata": {},
     "output_type": "execute_result"
    }
   ],
   "source": [
    "df.dtypes"
   ]
  },
  {
   "cell_type": "code",
   "execution_count": 12,
   "metadata": {
    "collapsed": false
   },
   "outputs": [
    {
     "data": {
      "text/html": [
       "<div>\n",
       "<table border=\"1\" class=\"dataframe\">\n",
       "  <thead>\n",
       "    <tr style=\"text-align: right;\">\n",
       "      <th></th>\n",
       "      <th>n</th>\n",
       "    </tr>\n",
       "  </thead>\n",
       "  <tbody>\n",
       "    <tr>\n",
       "      <th>count</th>\n",
       "      <td>2.561501e+07</td>\n",
       "    </tr>\n",
       "    <tr>\n",
       "      <th>mean</th>\n",
       "      <td>2.660513e+02</td>\n",
       "    </tr>\n",
       "    <tr>\n",
       "      <th>std</th>\n",
       "      <td>9.486989e+04</td>\n",
       "    </tr>\n",
       "    <tr>\n",
       "      <th>min</th>\n",
       "      <td>1.100000e+01</td>\n",
       "    </tr>\n",
       "    <tr>\n",
       "      <th>25%</th>\n",
       "      <td>1.700000e+01</td>\n",
       "    </tr>\n",
       "    <tr>\n",
       "      <th>50%</th>\n",
       "      <td>3.100000e+01</td>\n",
       "    </tr>\n",
       "    <tr>\n",
       "      <th>75%</th>\n",
       "      <td>8.300000e+01</td>\n",
       "    </tr>\n",
       "    <tr>\n",
       "      <th>max</th>\n",
       "      <td>4.795118e+08</td>\n",
       "    </tr>\n",
       "  </tbody>\n",
       "</table>\n",
       "</div>"
      ],
      "text/plain": [
       "                  n\n",
       "count  2.561501e+07\n",
       "mean   2.660513e+02\n",
       "std    9.486989e+04\n",
       "min    1.100000e+01\n",
       "25%    1.700000e+01\n",
       "50%    3.100000e+01\n",
       "75%    8.300000e+01\n",
       "max    4.795118e+08"
      ]
     },
     "execution_count": 12,
     "metadata": {},
     "output_type": "execute_result"
    }
   ],
   "source": [
    "df.describe()"
   ]
  },
  {
   "cell_type": "code",
   "execution_count": 13,
   "metadata": {
    "collapsed": true
   },
   "outputs": [],
   "source": [
    "# min = 11\n",
    "# avg = 266"
   ]
  },
  {
   "cell_type": "code",
   "execution_count": 17,
   "metadata": {
    "collapsed": false
   },
   "outputs": [
    {
     "data": {
      "text/html": [
       "<div>\n",
       "<table border=\"1\" class=\"dataframe\">\n",
       "  <thead>\n",
       "    <tr style=\"text-align: right;\">\n",
       "      <th></th>\n",
       "      <th>prev</th>\n",
       "      <th>curr</th>\n",
       "      <th>type</th>\n",
       "      <th>n</th>\n",
       "    </tr>\n",
       "  </thead>\n",
       "  <tbody>\n",
       "    <tr>\n",
       "      <th>206608</th>\n",
       "      <td>other-bing</td>\n",
       "      <td>Main_Page</td>\n",
       "      <td>external</td>\n",
       "      <td>240645</td>\n",
       "    </tr>\n",
       "    <tr>\n",
       "      <th>216526</th>\n",
       "      <td>other-empty</td>\n",
       "      <td>Ariana_Grande</td>\n",
       "      <td>external</td>\n",
       "      <td>167829</td>\n",
       "    </tr>\n",
       "    <tr>\n",
       "      <th>228155</th>\n",
       "      <td>other-empty</td>\n",
       "      <td>Frederick_Trump</td>\n",
       "      <td>external</td>\n",
       "      <td>103290</td>\n",
       "    </tr>\n",
       "    <tr>\n",
       "      <th>236198</th>\n",
       "      <td>other-empty</td>\n",
       "      <td>Kim_Kardashian</td>\n",
       "      <td>external</td>\n",
       "      <td>218614</td>\n",
       "    </tr>\n",
       "    <tr>\n",
       "      <th>258606</th>\n",
       "      <td>other-empty</td>\n",
       "      <td>Virat_Kohli</td>\n",
       "      <td>external</td>\n",
       "      <td>175152</td>\n",
       "    </tr>\n",
       "  </tbody>\n",
       "</table>\n",
       "</div>"
      ],
      "text/plain": [
       "               prev             curr      type       n\n",
       "206608   other-bing        Main_Page  external  240645\n",
       "216526  other-empty    Ariana_Grande  external  167829\n",
       "228155  other-empty  Frederick_Trump  external  103290\n",
       "236198  other-empty   Kim_Kardashian  external  218614\n",
       "258606  other-empty      Virat_Kohli  external  175152"
      ]
     },
     "execution_count": 17,
     "metadata": {},
     "output_type": "execute_result"
    }
   ],
   "source": [
    "df[df.n > 100000].head(5)"
   ]
  },
  {
   "cell_type": "code",
   "execution_count": 18,
   "metadata": {
    "collapsed": false
   },
   "outputs": [
    {
     "data": {
      "text/html": [
       "<div>\n",
       "<table border=\"1\" class=\"dataframe\">\n",
       "  <thead>\n",
       "    <tr style=\"text-align: right;\">\n",
       "      <th></th>\n",
       "      <th>prev</th>\n",
       "      <th>curr</th>\n",
       "      <th>type</th>\n",
       "      <th>n</th>\n",
       "    </tr>\n",
       "  </thead>\n",
       "  <tbody>\n",
       "    <tr>\n",
       "      <th>72571</th>\n",
       "      <td>Hogwarts</td>\n",
       "      <td>Harry_Potter</td>\n",
       "      <td>link</td>\n",
       "      <td>482</td>\n",
       "    </tr>\n",
       "    <tr>\n",
       "      <th>181498</th>\n",
       "      <td>The_Winds_of_Winter</td>\n",
       "      <td>Harry_Potter</td>\n",
       "      <td>other</td>\n",
       "      <td>12</td>\n",
       "    </tr>\n",
       "    <tr>\n",
       "      <th>189821</th>\n",
       "      <td>Uno_(card_game)</td>\n",
       "      <td>Harry_Potter</td>\n",
       "      <td>link</td>\n",
       "      <td>11</td>\n",
       "    </tr>\n",
       "    <tr>\n",
       "      <th>261740</th>\n",
       "      <td>other-facebook</td>\n",
       "      <td>Harry_Potter</td>\n",
       "      <td>external</td>\n",
       "      <td>157</td>\n",
       "    </tr>\n",
       "    <tr>\n",
       "      <th>514885</th>\n",
       "      <td>The_Divergent_Series</td>\n",
       "      <td>Harry_Potter</td>\n",
       "      <td>other</td>\n",
       "      <td>14</td>\n",
       "    </tr>\n",
       "    <tr>\n",
       "      <th>743654</th>\n",
       "      <td>Harry_Potter_and_the_Prisoner_of_Azkaban</td>\n",
       "      <td>Harry_Potter</td>\n",
       "      <td>link</td>\n",
       "      <td>216</td>\n",
       "    </tr>\n",
       "    <tr>\n",
       "      <th>835316</th>\n",
       "      <td>Scarlett_Byrne</td>\n",
       "      <td>Harry_Potter</td>\n",
       "      <td>link</td>\n",
       "      <td>14</td>\n",
       "    </tr>\n",
       "    <tr>\n",
       "      <th>1064450</th>\n",
       "      <td>English_Wikipedia</td>\n",
       "      <td>Harry_Potter</td>\n",
       "      <td>other</td>\n",
       "      <td>21</td>\n",
       "    </tr>\n",
       "    <tr>\n",
       "      <th>1173461</th>\n",
       "      <td>Scholastic_Corporation</td>\n",
       "      <td>Harry_Potter</td>\n",
       "      <td>link</td>\n",
       "      <td>79</td>\n",
       "    </tr>\n",
       "    <tr>\n",
       "      <th>1456843</th>\n",
       "      <td>List_of_most_commonly_challenged_books_in_the_...</td>\n",
       "      <td>Harry_Potter</td>\n",
       "      <td>link</td>\n",
       "      <td>72</td>\n",
       "    </tr>\n",
       "  </tbody>\n",
       "</table>\n",
       "</div>"
      ],
      "text/plain": [
       "                                                      prev          curr  \\\n",
       "72571                                             Hogwarts  Harry_Potter   \n",
       "181498                                 The_Winds_of_Winter  Harry_Potter   \n",
       "189821                                     Uno_(card_game)  Harry_Potter   \n",
       "261740                                      other-facebook  Harry_Potter   \n",
       "514885                                The_Divergent_Series  Harry_Potter   \n",
       "743654            Harry_Potter_and_the_Prisoner_of_Azkaban  Harry_Potter   \n",
       "835316                                      Scarlett_Byrne  Harry_Potter   \n",
       "1064450                                  English_Wikipedia  Harry_Potter   \n",
       "1173461                             Scholastic_Corporation  Harry_Potter   \n",
       "1456843  List_of_most_commonly_challenged_books_in_the_...  Harry_Potter   \n",
       "\n",
       "             type    n  \n",
       "72571        link  482  \n",
       "181498      other   12  \n",
       "189821       link   11  \n",
       "261740   external  157  \n",
       "514885      other   14  \n",
       "743654       link  216  \n",
       "835316       link   14  \n",
       "1064450     other   21  \n",
       "1173461      link   79  \n",
       "1456843      link   72  "
      ]
     },
     "execution_count": 18,
     "metadata": {},
     "output_type": "execute_result"
    }
   ],
   "source": [
    "df[df.curr == \"Harry_Potter\"].head(10)"
   ]
  },
  {
   "cell_type": "code",
   "execution_count": 19,
   "metadata": {
    "collapsed": false
   },
   "outputs": [
    {
     "data": {
      "text/html": [
       "<div>\n",
       "<table border=\"1\" class=\"dataframe\">\n",
       "  <thead>\n",
       "    <tr style=\"text-align: right;\">\n",
       "      <th></th>\n",
       "      <th>prev</th>\n",
       "      <th>curr</th>\n",
       "      <th>type</th>\n",
       "      <th>n</th>\n",
       "    </tr>\n",
       "  </thead>\n",
       "  <tbody>\n",
       "    <tr>\n",
       "      <th>6008480</th>\n",
       "      <td>other-google</td>\n",
       "      <td>Harry_Potter</td>\n",
       "      <td>external</td>\n",
       "      <td>293499</td>\n",
       "    </tr>\n",
       "    <tr>\n",
       "      <th>9330152</th>\n",
       "      <td>other-empty</td>\n",
       "      <td>Harry_Potter</td>\n",
       "      <td>external</td>\n",
       "      <td>125098</td>\n",
       "    </tr>\n",
       "    <tr>\n",
       "      <th>4702218</th>\n",
       "      <td>other-wikipedia</td>\n",
       "      <td>Harry_Potter</td>\n",
       "      <td>external</td>\n",
       "      <td>17539</td>\n",
       "    </tr>\n",
       "    <tr>\n",
       "      <th>10314943</th>\n",
       "      <td>other-bing</td>\n",
       "      <td>Harry_Potter</td>\n",
       "      <td>external</td>\n",
       "      <td>12458</td>\n",
       "    </tr>\n",
       "    <tr>\n",
       "      <th>9767363</th>\n",
       "      <td>other-yahoo</td>\n",
       "      <td>Harry_Potter</td>\n",
       "      <td>external</td>\n",
       "      <td>8511</td>\n",
       "    </tr>\n",
       "    <tr>\n",
       "      <th>21877068</th>\n",
       "      <td>other-other</td>\n",
       "      <td>Harry_Potter</td>\n",
       "      <td>external</td>\n",
       "      <td>7527</td>\n",
       "    </tr>\n",
       "    <tr>\n",
       "      <th>8879954</th>\n",
       "      <td>Main_Page</td>\n",
       "      <td>Harry_Potter</td>\n",
       "      <td>other</td>\n",
       "      <td>4977</td>\n",
       "    </tr>\n",
       "    <tr>\n",
       "      <th>8167831</th>\n",
       "      <td>J._K._Rowling</td>\n",
       "      <td>Harry_Potter</td>\n",
       "      <td>link</td>\n",
       "      <td>3729</td>\n",
       "    </tr>\n",
       "    <tr>\n",
       "      <th>18943011</th>\n",
       "      <td>Harry_Potter_(film_series)</td>\n",
       "      <td>Harry_Potter</td>\n",
       "      <td>link</td>\n",
       "      <td>1767</td>\n",
       "    </tr>\n",
       "    <tr>\n",
       "      <th>5799489</th>\n",
       "      <td>Harry_Potter_and_the_Deathly_Hallows</td>\n",
       "      <td>Harry_Potter</td>\n",
       "      <td>link</td>\n",
       "      <td>714</td>\n",
       "    </tr>\n",
       "  </tbody>\n",
       "</table>\n",
       "</div>"
      ],
      "text/plain": [
       "                                          prev          curr      type       n\n",
       "6008480                           other-google  Harry_Potter  external  293499\n",
       "9330152                            other-empty  Harry_Potter  external  125098\n",
       "4702218                        other-wikipedia  Harry_Potter  external   17539\n",
       "10314943                            other-bing  Harry_Potter  external   12458\n",
       "9767363                            other-yahoo  Harry_Potter  external    8511\n",
       "21877068                           other-other  Harry_Potter  external    7527\n",
       "8879954                              Main_Page  Harry_Potter     other    4977\n",
       "8167831                          J._K._Rowling  Harry_Potter      link    3729\n",
       "18943011            Harry_Potter_(film_series)  Harry_Potter      link    1767\n",
       "5799489   Harry_Potter_and_the_Deathly_Hallows  Harry_Potter      link     714"
      ]
     },
     "execution_count": 19,
     "metadata": {},
     "output_type": "execute_result"
    }
   ],
   "source": [
    "df[df.curr == \"Harry_Potter\"].sort_values('n', ascending=False).head(10)"
   ]
  },
  {
   "cell_type": "markdown",
   "metadata": {},
   "source": [
    "#### How much total traffic landed on the Harry_Potter page in March 2016?"
   ]
  },
  {
   "cell_type": "code",
   "execution_count": 23,
   "metadata": {
    "collapsed": false
   },
   "outputs": [
    {
     "data": {
      "text/html": [
       "<div>\n",
       "<table border=\"1\" class=\"dataframe\">\n",
       "  <thead>\n",
       "    <tr style=\"text-align: right;\">\n",
       "      <th></th>\n",
       "      <th>n</th>\n",
       "    </tr>\n",
       "    <tr>\n",
       "      <th>curr</th>\n",
       "      <th></th>\n",
       "    </tr>\n",
       "  </thead>\n",
       "  <tbody>\n",
       "    <tr>\n",
       "      <th>Harry_Potter</th>\n",
       "      <td>488494</td>\n",
       "    </tr>\n",
       "  </tbody>\n",
       "</table>\n",
       "</div>"
      ],
      "text/plain": [
       "                   n\n",
       "curr                \n",
       "Harry_Potter  488494"
      ]
     },
     "execution_count": 23,
     "metadata": {},
     "output_type": "execute_result"
    }
   ],
   "source": [
    "df[df['curr'] == 'Harry_Potter'].groupby('curr').sum()"
   ]
  },
  {
   "cell_type": "markdown",
   "metadata": {},
   "source": [
    "## Lists for HP"
   ]
  },
  {
   "cell_type": "code",
   "execution_count": 66,
   "metadata": {
    "collapsed": true
   },
   "outputs": [],
   "source": [
    "book_titles = [\n",
    "    \"Harry_Potter_and_the_Philosopher's_Stone\",\n",
    "    \"Harry_Potter_and_the_Chamber_of_Secrets\",\n",
    "    \"Harry_Potter_and_the_Prisoner_of_Azkaban\",\n",
    "    \"Harry_Potter_and_the_Goblet_of_Fire\",\n",
    "    \"Harry_Potter_and_the_Order_of_the_Phoenix\",\n",
    "    \"Harry_Potter_and_the_Half-Blood_Prince\",\n",
    "    \"Harry_Potter_and_the_Deathly_Hallows\"]"
   ]
  },
  {
   "cell_type": "code",
   "execution_count": 28,
   "metadata": {
    "collapsed": true
   },
   "outputs": [],
   "source": [
    "author = ['J._K._Rowling']"
   ]
  },
  {
   "cell_type": "code",
   "execution_count": 94,
   "metadata": {
    "collapsed": true
   },
   "outputs": [],
   "source": [
    "film_titles = [\n",
    "    \"Harry_Potter_and_the_Philosopher's_Stone_(film)\",\n",
    "    \"Harry_Potter_and_the_Chamber_of_Secrets_(film)\",\n",
    "    \"Harry_Potter_and_the_Prisoner_of_Azkaban_(film)\",\n",
    "    \"Harry_Potter_and_the_Goblet_of_Fire_(film)\",\n",
    "    \"Harry_Potter_and_the_Order_of_the_Phoenix_(film)\",\n",
    "    \"Harry_Potter_and_the_Half-Blood_Prince_(film)\",\n",
    "    \"Harry_Potter_and_the_Deathly_Hallows_–_Part_1\",\n",
    "    \"Harry_Potter_and_the_Deathly_Hallows_–_Part_2\"]"
   ]
  },
  {
   "cell_type": "code",
   "execution_count": 30,
   "metadata": {
    "collapsed": true
   },
   "outputs": [],
   "source": [
    "cast = [\n",
    "    'Daniel_Radcliffe',\n",
    "    'Emma_Watson',\n",
    "    'Rupert_Grint',\n",
    "    'Alan_Rickman',\n",
    "    'Ralph_Fiennes',\n",
    "    'Richard_Harris',\n",
    "    'Michael_Gambon',\n",
    "    'Tom_Felton']"
   ]
  },
  {
   "cell_type": "code",
   "execution_count": 101,
   "metadata": {
    "collapsed": true
   },
   "outputs": [],
   "source": [
    "film_makers = [\n",
    "    'Chris_Columbus_(filmmaker)',\n",
    "    'Alfonso_Cuarón',\n",
    "    'Mike_Newell_(director)',\n",
    "    'David_Yates',\n",
    "    'David_Heyman',\n",
    "    'David_Barron_(film_producer)',\n",
    "    'J._K._Rowling',\n",
    "    'Steve_Kloves',\n",
    "    'Michael_Goldenberg']"
   ]
  },
  {
   "cell_type": "markdown",
   "metadata": {},
   "source": [
    "### Which book is the most popular? "
   ]
  },
  {
   "cell_type": "code",
   "execution_count": 85,
   "metadata": {
    "collapsed": true
   },
   "outputs": [],
   "source": [
    "#Strategy: For each item in book_titles, get the grouped sum of n and then\n",
    "# append it to a new DF with 2 cols, title + sum(n)\n",
    "\n",
    "# Maybe write a func that takes in a list and emits a DF?"
   ]
  },
  {
   "cell_type": "code",
   "execution_count": 88,
   "metadata": {
    "collapsed": true
   },
   "outputs": [],
   "source": [
    "pop_books_df = pd.DataFrame()\n",
    "\n",
    "for title in book_titles:\n",
    "    pop_books_df = pd.concat([pop_books_df, \n",
    "                              df[df.curr == title] \\\n",
    "                              .groupby('curr').sum()])"
   ]
  },
  {
   "cell_type": "code",
   "execution_count": 89,
   "metadata": {
    "collapsed": false
   },
   "outputs": [
    {
     "data": {
      "text/html": [
       "<div>\n",
       "<table border=\"1\" class=\"dataframe\">\n",
       "  <thead>\n",
       "    <tr style=\"text-align: right;\">\n",
       "      <th></th>\n",
       "      <th>n</th>\n",
       "    </tr>\n",
       "    <tr>\n",
       "      <th>curr</th>\n",
       "      <th></th>\n",
       "    </tr>\n",
       "  </thead>\n",
       "  <tbody>\n",
       "    <tr>\n",
       "      <th>Harry_Potter_and_the_Philosopher's_Stone</th>\n",
       "      <td>97945</td>\n",
       "    </tr>\n",
       "    <tr>\n",
       "      <th>Harry_Potter_and_the_Chamber_of_Secrets</th>\n",
       "      <td>26869</td>\n",
       "    </tr>\n",
       "    <tr>\n",
       "      <th>Harry_Potter_and_the_Prisoner_of_Azkaban</th>\n",
       "      <td>27489</td>\n",
       "    </tr>\n",
       "    <tr>\n",
       "      <th>Harry_Potter_and_the_Goblet_of_Fire</th>\n",
       "      <td>34562</td>\n",
       "    </tr>\n",
       "    <tr>\n",
       "      <th>Harry_Potter_and_the_Order_of_the_Phoenix</th>\n",
       "      <td>32604</td>\n",
       "    </tr>\n",
       "    <tr>\n",
       "      <th>Harry_Potter_and_the_Half-Blood_Prince</th>\n",
       "      <td>39548</td>\n",
       "    </tr>\n",
       "    <tr>\n",
       "      <th>Harry_Potter_and_the_Deathly_Hallows</th>\n",
       "      <td>66615</td>\n",
       "    </tr>\n",
       "  </tbody>\n",
       "</table>\n",
       "</div>"
      ],
      "text/plain": [
       "                                               n\n",
       "curr                                            \n",
       "Harry_Potter_and_the_Philosopher's_Stone   97945\n",
       "Harry_Potter_and_the_Chamber_of_Secrets    26869\n",
       "Harry_Potter_and_the_Prisoner_of_Azkaban   27489\n",
       "Harry_Potter_and_the_Goblet_of_Fire        34562\n",
       "Harry_Potter_and_the_Order_of_the_Phoenix  32604\n",
       "Harry_Potter_and_the_Half-Blood_Prince     39548\n",
       "Harry_Potter_and_the_Deathly_Hallows       66615"
      ]
     },
     "execution_count": 89,
     "metadata": {},
     "output_type": "execute_result"
    }
   ],
   "source": [
    "pop_books_df"
   ]
  },
  {
   "cell_type": "code",
   "execution_count": 175,
   "metadata": {
    "collapsed": true
   },
   "outputs": [],
   "source": [
    "pop_books_df['category'] = 'book'"
   ]
  },
  {
   "cell_type": "code",
   "execution_count": 176,
   "metadata": {
    "collapsed": false
   },
   "outputs": [
    {
     "data": {
      "text/html": [
       "<div>\n",
       "<table border=\"1\" class=\"dataframe\">\n",
       "  <thead>\n",
       "    <tr style=\"text-align: right;\">\n",
       "      <th></th>\n",
       "      <th>n</th>\n",
       "      <th>category</th>\n",
       "    </tr>\n",
       "    <tr>\n",
       "      <th>curr</th>\n",
       "      <th></th>\n",
       "      <th></th>\n",
       "    </tr>\n",
       "  </thead>\n",
       "  <tbody>\n",
       "    <tr>\n",
       "      <th>Harry_Potter_and_the_Philosopher's_Stone</th>\n",
       "      <td>97945</td>\n",
       "      <td>book</td>\n",
       "    </tr>\n",
       "    <tr>\n",
       "      <th>Harry_Potter_and_the_Chamber_of_Secrets</th>\n",
       "      <td>26869</td>\n",
       "      <td>book</td>\n",
       "    </tr>\n",
       "    <tr>\n",
       "      <th>Harry_Potter_and_the_Prisoner_of_Azkaban</th>\n",
       "      <td>27489</td>\n",
       "      <td>book</td>\n",
       "    </tr>\n",
       "    <tr>\n",
       "      <th>Harry_Potter_and_the_Goblet_of_Fire</th>\n",
       "      <td>34562</td>\n",
       "      <td>book</td>\n",
       "    </tr>\n",
       "    <tr>\n",
       "      <th>Harry_Potter_and_the_Order_of_the_Phoenix</th>\n",
       "      <td>32604</td>\n",
       "      <td>book</td>\n",
       "    </tr>\n",
       "    <tr>\n",
       "      <th>Harry_Potter_and_the_Half-Blood_Prince</th>\n",
       "      <td>39548</td>\n",
       "      <td>book</td>\n",
       "    </tr>\n",
       "    <tr>\n",
       "      <th>Harry_Potter_and_the_Deathly_Hallows</th>\n",
       "      <td>66615</td>\n",
       "      <td>book</td>\n",
       "    </tr>\n",
       "  </tbody>\n",
       "</table>\n",
       "</div>"
      ],
      "text/plain": [
       "                                               n category\n",
       "curr                                                     \n",
       "Harry_Potter_and_the_Philosopher's_Stone   97945     book\n",
       "Harry_Potter_and_the_Chamber_of_Secrets    26869     book\n",
       "Harry_Potter_and_the_Prisoner_of_Azkaban   27489     book\n",
       "Harry_Potter_and_the_Goblet_of_Fire        34562     book\n",
       "Harry_Potter_and_the_Order_of_the_Phoenix  32604     book\n",
       "Harry_Potter_and_the_Half-Blood_Prince     39548     book\n",
       "Harry_Potter_and_the_Deathly_Hallows       66615     book"
      ]
     },
     "execution_count": 176,
     "metadata": {},
     "output_type": "execute_result"
    }
   ],
   "source": [
    "pop_books_df"
   ]
  },
  {
   "cell_type": "markdown",
   "metadata": {},
   "source": [
    "### Which film is the most popular? "
   ]
  },
  {
   "cell_type": "code",
   "execution_count": 95,
   "metadata": {
    "collapsed": true
   },
   "outputs": [],
   "source": [
    "pop_films_df = pd.DataFrame()\n",
    "\n",
    "for film in film_titles:\n",
    "    pop_films_df = pd.concat([pop_films_df, \n",
    "                              df[df.curr == film] \\\n",
    "                              .groupby('curr').sum()])"
   ]
  },
  {
   "cell_type": "code",
   "execution_count": 96,
   "metadata": {
    "collapsed": false
   },
   "outputs": [
    {
     "data": {
      "text/html": [
       "<div>\n",
       "<table border=\"1\" class=\"dataframe\">\n",
       "  <thead>\n",
       "    <tr style=\"text-align: right;\">\n",
       "      <th></th>\n",
       "      <th>n</th>\n",
       "    </tr>\n",
       "    <tr>\n",
       "      <th>curr</th>\n",
       "      <th></th>\n",
       "    </tr>\n",
       "  </thead>\n",
       "  <tbody>\n",
       "    <tr>\n",
       "      <th>Harry_Potter_and_the_Philosopher's_Stone_(film)</th>\n",
       "      <td>81015</td>\n",
       "    </tr>\n",
       "    <tr>\n",
       "      <th>Harry_Potter_and_the_Chamber_of_Secrets_(film)</th>\n",
       "      <td>43759</td>\n",
       "    </tr>\n",
       "    <tr>\n",
       "      <th>Harry_Potter_and_the_Prisoner_of_Azkaban_(film)</th>\n",
       "      <td>50635</td>\n",
       "    </tr>\n",
       "    <tr>\n",
       "      <th>Harry_Potter_and_the_Goblet_of_Fire_(film)</th>\n",
       "      <td>54694</td>\n",
       "    </tr>\n",
       "    <tr>\n",
       "      <th>Harry_Potter_and_the_Order_of_the_Phoenix_(film)</th>\n",
       "      <td>49567</td>\n",
       "    </tr>\n",
       "    <tr>\n",
       "      <th>Harry_Potter_and_the_Half-Blood_Prince_(film)</th>\n",
       "      <td>47716</td>\n",
       "    </tr>\n",
       "    <tr>\n",
       "      <th>Harry_Potter_and_the_Deathly_Hallows_–_Part_1</th>\n",
       "      <td>54948</td>\n",
       "    </tr>\n",
       "    <tr>\n",
       "      <th>Harry_Potter_and_the_Deathly_Hallows_–_Part_2</th>\n",
       "      <td>74406</td>\n",
       "    </tr>\n",
       "  </tbody>\n",
       "</table>\n",
       "</div>"
      ],
      "text/plain": [
       "                                                      n\n",
       "curr                                                   \n",
       "Harry_Potter_and_the_Philosopher's_Stone_(film)   81015\n",
       "Harry_Potter_and_the_Chamber_of_Secrets_(film)    43759\n",
       "Harry_Potter_and_the_Prisoner_of_Azkaban_(film)   50635\n",
       "Harry_Potter_and_the_Goblet_of_Fire_(film)        54694\n",
       "Harry_Potter_and_the_Order_of_the_Phoenix_(film)  49567\n",
       "Harry_Potter_and_the_Half-Blood_Prince_(film)     47716\n",
       "Harry_Potter_and_the_Deathly_Hallows_–_Part_1     54948\n",
       "Harry_Potter_and_the_Deathly_Hallows_–_Part_2     74406"
      ]
     },
     "execution_count": 96,
     "metadata": {},
     "output_type": "execute_result"
    }
   ],
   "source": [
    "pop_films_df"
   ]
  },
  {
   "cell_type": "code",
   "execution_count": 173,
   "metadata": {
    "collapsed": true
   },
   "outputs": [],
   "source": [
    "pop_films_df['category'] = 'film'"
   ]
  },
  {
   "cell_type": "code",
   "execution_count": 174,
   "metadata": {
    "collapsed": false
   },
   "outputs": [
    {
     "data": {
      "text/html": [
       "<div>\n",
       "<table border=\"1\" class=\"dataframe\">\n",
       "  <thead>\n",
       "    <tr style=\"text-align: right;\">\n",
       "      <th></th>\n",
       "      <th>n</th>\n",
       "      <th>category</th>\n",
       "    </tr>\n",
       "    <tr>\n",
       "      <th>curr</th>\n",
       "      <th></th>\n",
       "      <th></th>\n",
       "    </tr>\n",
       "  </thead>\n",
       "  <tbody>\n",
       "    <tr>\n",
       "      <th>Harry_Potter_and_the_Philosopher's_Stone_(film)</th>\n",
       "      <td>81015</td>\n",
       "      <td>film</td>\n",
       "    </tr>\n",
       "    <tr>\n",
       "      <th>Harry_Potter_and_the_Chamber_of_Secrets_(film)</th>\n",
       "      <td>43759</td>\n",
       "      <td>film</td>\n",
       "    </tr>\n",
       "    <tr>\n",
       "      <th>Harry_Potter_and_the_Prisoner_of_Azkaban_(film)</th>\n",
       "      <td>50635</td>\n",
       "      <td>film</td>\n",
       "    </tr>\n",
       "    <tr>\n",
       "      <th>Harry_Potter_and_the_Goblet_of_Fire_(film)</th>\n",
       "      <td>54694</td>\n",
       "      <td>film</td>\n",
       "    </tr>\n",
       "    <tr>\n",
       "      <th>Harry_Potter_and_the_Order_of_the_Phoenix_(film)</th>\n",
       "      <td>49567</td>\n",
       "      <td>film</td>\n",
       "    </tr>\n",
       "    <tr>\n",
       "      <th>Harry_Potter_and_the_Half-Blood_Prince_(film)</th>\n",
       "      <td>47716</td>\n",
       "      <td>film</td>\n",
       "    </tr>\n",
       "    <tr>\n",
       "      <th>Harry_Potter_and_the_Deathly_Hallows_–_Part_1</th>\n",
       "      <td>54948</td>\n",
       "      <td>film</td>\n",
       "    </tr>\n",
       "    <tr>\n",
       "      <th>Harry_Potter_and_the_Deathly_Hallows_–_Part_2</th>\n",
       "      <td>74406</td>\n",
       "      <td>film</td>\n",
       "    </tr>\n",
       "  </tbody>\n",
       "</table>\n",
       "</div>"
      ],
      "text/plain": [
       "                                                      n category\n",
       "curr                                                            \n",
       "Harry_Potter_and_the_Philosopher's_Stone_(film)   81015     film\n",
       "Harry_Potter_and_the_Chamber_of_Secrets_(film)    43759     film\n",
       "Harry_Potter_and_the_Prisoner_of_Azkaban_(film)   50635     film\n",
       "Harry_Potter_and_the_Goblet_of_Fire_(film)        54694     film\n",
       "Harry_Potter_and_the_Order_of_the_Phoenix_(film)  49567     film\n",
       "Harry_Potter_and_the_Half-Blood_Prince_(film)     47716     film\n",
       "Harry_Potter_and_the_Deathly_Hallows_–_Part_1     54948     film\n",
       "Harry_Potter_and_the_Deathly_Hallows_–_Part_2     74406     film"
      ]
     },
     "execution_count": 174,
     "metadata": {},
     "output_type": "execute_result"
    }
   ],
   "source": [
    "pop_films_df"
   ]
  },
  {
   "cell_type": "markdown",
   "metadata": {},
   "source": [
    "### Which cast member is the most popular? "
   ]
  },
  {
   "cell_type": "code",
   "execution_count": 97,
   "metadata": {
    "collapsed": true
   },
   "outputs": [],
   "source": [
    "pop_cast_df = pd.DataFrame()\n",
    "\n",
    "for each in cast:\n",
    "    pop_cast_df = pd.concat([pop_cast_df, \n",
    "                              df[df.curr == each] \\\n",
    "                              .groupby('curr').sum()])"
   ]
  },
  {
   "cell_type": "code",
   "execution_count": 98,
   "metadata": {
    "collapsed": false
   },
   "outputs": [
    {
     "data": {
      "text/html": [
       "<div>\n",
       "<table border=\"1\" class=\"dataframe\">\n",
       "  <thead>\n",
       "    <tr style=\"text-align: right;\">\n",
       "      <th></th>\n",
       "      <th>n</th>\n",
       "    </tr>\n",
       "    <tr>\n",
       "      <th>curr</th>\n",
       "      <th></th>\n",
       "    </tr>\n",
       "  </thead>\n",
       "  <tbody>\n",
       "    <tr>\n",
       "      <th>Daniel_Radcliffe</th>\n",
       "      <td>242279</td>\n",
       "    </tr>\n",
       "    <tr>\n",
       "      <th>Emma_Watson</th>\n",
       "      <td>360812</td>\n",
       "    </tr>\n",
       "    <tr>\n",
       "      <th>Rupert_Grint</th>\n",
       "      <td>108866</td>\n",
       "    </tr>\n",
       "    <tr>\n",
       "      <th>Alan_Rickman</th>\n",
       "      <td>312455</td>\n",
       "    </tr>\n",
       "    <tr>\n",
       "      <th>Ralph_Fiennes</th>\n",
       "      <td>215257</td>\n",
       "    </tr>\n",
       "    <tr>\n",
       "      <th>Richard_Harris</th>\n",
       "      <td>117013</td>\n",
       "    </tr>\n",
       "    <tr>\n",
       "      <th>Michael_Gambon</th>\n",
       "      <td>98745</td>\n",
       "    </tr>\n",
       "    <tr>\n",
       "      <th>Tom_Felton</th>\n",
       "      <td>86771</td>\n",
       "    </tr>\n",
       "  </tbody>\n",
       "</table>\n",
       "</div>"
      ],
      "text/plain": [
       "                       n\n",
       "curr                    \n",
       "Daniel_Radcliffe  242279\n",
       "Emma_Watson       360812\n",
       "Rupert_Grint      108866\n",
       "Alan_Rickman      312455\n",
       "Ralph_Fiennes     215257\n",
       "Richard_Harris    117013\n",
       "Michael_Gambon     98745\n",
       "Tom_Felton         86771"
      ]
     },
     "execution_count": 98,
     "metadata": {},
     "output_type": "execute_result"
    }
   ],
   "source": [
    "pop_cast_df"
   ]
  },
  {
   "cell_type": "code",
   "execution_count": 177,
   "metadata": {
    "collapsed": true
   },
   "outputs": [],
   "source": [
    "pop_cast_df['category'] = 'cast'"
   ]
  },
  {
   "cell_type": "code",
   "execution_count": 178,
   "metadata": {
    "collapsed": false
   },
   "outputs": [
    {
     "data": {
      "text/html": [
       "<div>\n",
       "<table border=\"1\" class=\"dataframe\">\n",
       "  <thead>\n",
       "    <tr style=\"text-align: right;\">\n",
       "      <th></th>\n",
       "      <th>n</th>\n",
       "      <th>category</th>\n",
       "    </tr>\n",
       "    <tr>\n",
       "      <th>curr</th>\n",
       "      <th></th>\n",
       "      <th></th>\n",
       "    </tr>\n",
       "  </thead>\n",
       "  <tbody>\n",
       "    <tr>\n",
       "      <th>Daniel_Radcliffe</th>\n",
       "      <td>242279</td>\n",
       "      <td>cast</td>\n",
       "    </tr>\n",
       "    <tr>\n",
       "      <th>Emma_Watson</th>\n",
       "      <td>360812</td>\n",
       "      <td>cast</td>\n",
       "    </tr>\n",
       "    <tr>\n",
       "      <th>Rupert_Grint</th>\n",
       "      <td>108866</td>\n",
       "      <td>cast</td>\n",
       "    </tr>\n",
       "    <tr>\n",
       "      <th>Alan_Rickman</th>\n",
       "      <td>312455</td>\n",
       "      <td>cast</td>\n",
       "    </tr>\n",
       "    <tr>\n",
       "      <th>Ralph_Fiennes</th>\n",
       "      <td>215257</td>\n",
       "      <td>cast</td>\n",
       "    </tr>\n",
       "    <tr>\n",
       "      <th>Richard_Harris</th>\n",
       "      <td>117013</td>\n",
       "      <td>cast</td>\n",
       "    </tr>\n",
       "    <tr>\n",
       "      <th>Michael_Gambon</th>\n",
       "      <td>98745</td>\n",
       "      <td>cast</td>\n",
       "    </tr>\n",
       "    <tr>\n",
       "      <th>Tom_Felton</th>\n",
       "      <td>86771</td>\n",
       "      <td>cast</td>\n",
       "    </tr>\n",
       "  </tbody>\n",
       "</table>\n",
       "</div>"
      ],
      "text/plain": [
       "                       n category\n",
       "curr                             \n",
       "Daniel_Radcliffe  242279     cast\n",
       "Emma_Watson       360812     cast\n",
       "Rupert_Grint      108866     cast\n",
       "Alan_Rickman      312455     cast\n",
       "Ralph_Fiennes     215257     cast\n",
       "Richard_Harris    117013     cast\n",
       "Michael_Gambon     98745     cast\n",
       "Tom_Felton         86771     cast"
      ]
     },
     "execution_count": 178,
     "metadata": {},
     "output_type": "execute_result"
    }
   ],
   "source": [
    "pop_cast_df"
   ]
  },
  {
   "cell_type": "markdown",
   "metadata": {},
   "source": [
    "### Which film maker is the most popular? "
   ]
  },
  {
   "cell_type": "code",
   "execution_count": 102,
   "metadata": {
    "collapsed": true
   },
   "outputs": [],
   "source": [
    "pop_makers_df = pd.DataFrame()\n",
    "\n",
    "for each in film_makers:\n",
    "    pop_makers_df = pd.concat([pop_makers_df, \n",
    "                              df[df.curr == each] \\\n",
    "                              .groupby('curr').sum()])"
   ]
  },
  {
   "cell_type": "code",
   "execution_count": 103,
   "metadata": {
    "collapsed": false
   },
   "outputs": [
    {
     "data": {
      "text/html": [
       "<div>\n",
       "<table border=\"1\" class=\"dataframe\">\n",
       "  <thead>\n",
       "    <tr style=\"text-align: right;\">\n",
       "      <th></th>\n",
       "      <th>n</th>\n",
       "    </tr>\n",
       "    <tr>\n",
       "      <th>curr</th>\n",
       "      <th></th>\n",
       "    </tr>\n",
       "  </thead>\n",
       "  <tbody>\n",
       "    <tr>\n",
       "      <th>Chris_Columbus_(filmmaker)</th>\n",
       "      <td>25723</td>\n",
       "    </tr>\n",
       "    <tr>\n",
       "      <th>Alfonso_Cuarón</th>\n",
       "      <td>51124</td>\n",
       "    </tr>\n",
       "    <tr>\n",
       "      <th>Mike_Newell_(director)</th>\n",
       "      <td>8562</td>\n",
       "    </tr>\n",
       "    <tr>\n",
       "      <th>David_Yates</th>\n",
       "      <td>21664</td>\n",
       "    </tr>\n",
       "    <tr>\n",
       "      <th>David_Heyman</th>\n",
       "      <td>6930</td>\n",
       "    </tr>\n",
       "    <tr>\n",
       "      <th>David_Barron_(film_producer)</th>\n",
       "      <td>1264</td>\n",
       "    </tr>\n",
       "    <tr>\n",
       "      <th>J._K._Rowling</th>\n",
       "      <td>273468</td>\n",
       "    </tr>\n",
       "    <tr>\n",
       "      <th>Steve_Kloves</th>\n",
       "      <td>3495</td>\n",
       "    </tr>\n",
       "    <tr>\n",
       "      <th>Michael_Goldenberg</th>\n",
       "      <td>1329</td>\n",
       "    </tr>\n",
       "  </tbody>\n",
       "</table>\n",
       "</div>"
      ],
      "text/plain": [
       "                                   n\n",
       "curr                                \n",
       "Chris_Columbus_(filmmaker)     25723\n",
       "Alfonso_Cuarón                 51124\n",
       "Mike_Newell_(director)          8562\n",
       "David_Yates                    21664\n",
       "David_Heyman                    6930\n",
       "David_Barron_(film_producer)    1264\n",
       "J._K._Rowling                 273468\n",
       "Steve_Kloves                    3495\n",
       "Michael_Goldenberg              1329"
      ]
     },
     "execution_count": 103,
     "metadata": {},
     "output_type": "execute_result"
    }
   ],
   "source": [
    "pop_makers_df"
   ]
  },
  {
   "cell_type": "code",
   "execution_count": 179,
   "metadata": {
    "collapsed": true
   },
   "outputs": [],
   "source": [
    "pop_makers_df['category'] = 'filmmaker'"
   ]
  },
  {
   "cell_type": "code",
   "execution_count": 180,
   "metadata": {
    "collapsed": false
   },
   "outputs": [
    {
     "data": {
      "text/html": [
       "<div>\n",
       "<table border=\"1\" class=\"dataframe\">\n",
       "  <thead>\n",
       "    <tr style=\"text-align: right;\">\n",
       "      <th></th>\n",
       "      <th>n</th>\n",
       "      <th>category</th>\n",
       "    </tr>\n",
       "    <tr>\n",
       "      <th>curr</th>\n",
       "      <th></th>\n",
       "      <th></th>\n",
       "    </tr>\n",
       "  </thead>\n",
       "  <tbody>\n",
       "    <tr>\n",
       "      <th>Chris_Columbus_(filmmaker)</th>\n",
       "      <td>25723</td>\n",
       "      <td>filmmaker</td>\n",
       "    </tr>\n",
       "    <tr>\n",
       "      <th>Alfonso_Cuarón</th>\n",
       "      <td>51124</td>\n",
       "      <td>filmmaker</td>\n",
       "    </tr>\n",
       "    <tr>\n",
       "      <th>Mike_Newell_(director)</th>\n",
       "      <td>8562</td>\n",
       "      <td>filmmaker</td>\n",
       "    </tr>\n",
       "    <tr>\n",
       "      <th>David_Yates</th>\n",
       "      <td>21664</td>\n",
       "      <td>filmmaker</td>\n",
       "    </tr>\n",
       "    <tr>\n",
       "      <th>David_Heyman</th>\n",
       "      <td>6930</td>\n",
       "      <td>filmmaker</td>\n",
       "    </tr>\n",
       "    <tr>\n",
       "      <th>David_Barron_(film_producer)</th>\n",
       "      <td>1264</td>\n",
       "      <td>filmmaker</td>\n",
       "    </tr>\n",
       "    <tr>\n",
       "      <th>J._K._Rowling</th>\n",
       "      <td>273468</td>\n",
       "      <td>filmmaker</td>\n",
       "    </tr>\n",
       "    <tr>\n",
       "      <th>Steve_Kloves</th>\n",
       "      <td>3495</td>\n",
       "      <td>filmmaker</td>\n",
       "    </tr>\n",
       "    <tr>\n",
       "      <th>Michael_Goldenberg</th>\n",
       "      <td>1329</td>\n",
       "      <td>filmmaker</td>\n",
       "    </tr>\n",
       "  </tbody>\n",
       "</table>\n",
       "</div>"
      ],
      "text/plain": [
       "                                   n   category\n",
       "curr                                           \n",
       "Chris_Columbus_(filmmaker)     25723  filmmaker\n",
       "Alfonso_Cuarón                 51124  filmmaker\n",
       "Mike_Newell_(director)          8562  filmmaker\n",
       "David_Yates                    21664  filmmaker\n",
       "David_Heyman                    6930  filmmaker\n",
       "David_Barron_(film_producer)    1264  filmmaker\n",
       "J._K._Rowling                 273468  filmmaker\n",
       "Steve_Kloves                    3495  filmmaker\n",
       "Michael_Goldenberg              1329  filmmaker"
      ]
     },
     "execution_count": 180,
     "metadata": {},
     "output_type": "execute_result"
    }
   ],
   "source": [
    "pop_makers_df"
   ]
  },
  {
   "cell_type": "markdown",
   "metadata": {},
   "source": [
    "## Make a popularity dataframe by merging all the above dataframes."
   ]
  },
  {
   "cell_type": "code",
   "execution_count": 181,
   "metadata": {
    "collapsed": true
   },
   "outputs": [],
   "source": [
    "popularity_df = pd.DataFrame()"
   ]
  },
  {
   "cell_type": "code",
   "execution_count": 182,
   "metadata": {
    "collapsed": true
   },
   "outputs": [],
   "source": [
    "popularity_df = pd.concat([pop_books_df, pop_films_df, pop_cast_df, pop_makers_df])"
   ]
  },
  {
   "cell_type": "code",
   "execution_count": 183,
   "metadata": {
    "collapsed": false
   },
   "outputs": [
    {
     "data": {
      "text/html": [
       "<div>\n",
       "<table border=\"1\" class=\"dataframe\">\n",
       "  <thead>\n",
       "    <tr style=\"text-align: right;\">\n",
       "      <th></th>\n",
       "      <th>n</th>\n",
       "      <th>category</th>\n",
       "    </tr>\n",
       "    <tr>\n",
       "      <th>curr</th>\n",
       "      <th></th>\n",
       "      <th></th>\n",
       "    </tr>\n",
       "  </thead>\n",
       "  <tbody>\n",
       "    <tr>\n",
       "      <th>Harry_Potter_and_the_Philosopher's_Stone</th>\n",
       "      <td>97945</td>\n",
       "      <td>book</td>\n",
       "    </tr>\n",
       "    <tr>\n",
       "      <th>Harry_Potter_and_the_Chamber_of_Secrets</th>\n",
       "      <td>26869</td>\n",
       "      <td>book</td>\n",
       "    </tr>\n",
       "    <tr>\n",
       "      <th>Harry_Potter_and_the_Prisoner_of_Azkaban</th>\n",
       "      <td>27489</td>\n",
       "      <td>book</td>\n",
       "    </tr>\n",
       "    <tr>\n",
       "      <th>Harry_Potter_and_the_Goblet_of_Fire</th>\n",
       "      <td>34562</td>\n",
       "      <td>book</td>\n",
       "    </tr>\n",
       "    <tr>\n",
       "      <th>Harry_Potter_and_the_Order_of_the_Phoenix</th>\n",
       "      <td>32604</td>\n",
       "      <td>book</td>\n",
       "    </tr>\n",
       "    <tr>\n",
       "      <th>Harry_Potter_and_the_Half-Blood_Prince</th>\n",
       "      <td>39548</td>\n",
       "      <td>book</td>\n",
       "    </tr>\n",
       "    <tr>\n",
       "      <th>Harry_Potter_and_the_Deathly_Hallows</th>\n",
       "      <td>66615</td>\n",
       "      <td>book</td>\n",
       "    </tr>\n",
       "    <tr>\n",
       "      <th>Harry_Potter_and_the_Philosopher's_Stone_(film)</th>\n",
       "      <td>81015</td>\n",
       "      <td>film</td>\n",
       "    </tr>\n",
       "    <tr>\n",
       "      <th>Harry_Potter_and_the_Chamber_of_Secrets_(film)</th>\n",
       "      <td>43759</td>\n",
       "      <td>film</td>\n",
       "    </tr>\n",
       "    <tr>\n",
       "      <th>Harry_Potter_and_the_Prisoner_of_Azkaban_(film)</th>\n",
       "      <td>50635</td>\n",
       "      <td>film</td>\n",
       "    </tr>\n",
       "    <tr>\n",
       "      <th>Harry_Potter_and_the_Goblet_of_Fire_(film)</th>\n",
       "      <td>54694</td>\n",
       "      <td>film</td>\n",
       "    </tr>\n",
       "    <tr>\n",
       "      <th>Harry_Potter_and_the_Order_of_the_Phoenix_(film)</th>\n",
       "      <td>49567</td>\n",
       "      <td>film</td>\n",
       "    </tr>\n",
       "    <tr>\n",
       "      <th>Harry_Potter_and_the_Half-Blood_Prince_(film)</th>\n",
       "      <td>47716</td>\n",
       "      <td>film</td>\n",
       "    </tr>\n",
       "    <tr>\n",
       "      <th>Harry_Potter_and_the_Deathly_Hallows_–_Part_1</th>\n",
       "      <td>54948</td>\n",
       "      <td>film</td>\n",
       "    </tr>\n",
       "    <tr>\n",
       "      <th>Harry_Potter_and_the_Deathly_Hallows_–_Part_2</th>\n",
       "      <td>74406</td>\n",
       "      <td>film</td>\n",
       "    </tr>\n",
       "    <tr>\n",
       "      <th>Daniel_Radcliffe</th>\n",
       "      <td>242279</td>\n",
       "      <td>cast</td>\n",
       "    </tr>\n",
       "    <tr>\n",
       "      <th>Emma_Watson</th>\n",
       "      <td>360812</td>\n",
       "      <td>cast</td>\n",
       "    </tr>\n",
       "    <tr>\n",
       "      <th>Rupert_Grint</th>\n",
       "      <td>108866</td>\n",
       "      <td>cast</td>\n",
       "    </tr>\n",
       "    <tr>\n",
       "      <th>Alan_Rickman</th>\n",
       "      <td>312455</td>\n",
       "      <td>cast</td>\n",
       "    </tr>\n",
       "    <tr>\n",
       "      <th>Ralph_Fiennes</th>\n",
       "      <td>215257</td>\n",
       "      <td>cast</td>\n",
       "    </tr>\n",
       "    <tr>\n",
       "      <th>Richard_Harris</th>\n",
       "      <td>117013</td>\n",
       "      <td>cast</td>\n",
       "    </tr>\n",
       "    <tr>\n",
       "      <th>Michael_Gambon</th>\n",
       "      <td>98745</td>\n",
       "      <td>cast</td>\n",
       "    </tr>\n",
       "    <tr>\n",
       "      <th>Tom_Felton</th>\n",
       "      <td>86771</td>\n",
       "      <td>cast</td>\n",
       "    </tr>\n",
       "    <tr>\n",
       "      <th>Chris_Columbus_(filmmaker)</th>\n",
       "      <td>25723</td>\n",
       "      <td>filmmaker</td>\n",
       "    </tr>\n",
       "    <tr>\n",
       "      <th>Alfonso_Cuarón</th>\n",
       "      <td>51124</td>\n",
       "      <td>filmmaker</td>\n",
       "    </tr>\n",
       "    <tr>\n",
       "      <th>Mike_Newell_(director)</th>\n",
       "      <td>8562</td>\n",
       "      <td>filmmaker</td>\n",
       "    </tr>\n",
       "    <tr>\n",
       "      <th>David_Yates</th>\n",
       "      <td>21664</td>\n",
       "      <td>filmmaker</td>\n",
       "    </tr>\n",
       "    <tr>\n",
       "      <th>David_Heyman</th>\n",
       "      <td>6930</td>\n",
       "      <td>filmmaker</td>\n",
       "    </tr>\n",
       "    <tr>\n",
       "      <th>David_Barron_(film_producer)</th>\n",
       "      <td>1264</td>\n",
       "      <td>filmmaker</td>\n",
       "    </tr>\n",
       "    <tr>\n",
       "      <th>J._K._Rowling</th>\n",
       "      <td>273468</td>\n",
       "      <td>filmmaker</td>\n",
       "    </tr>\n",
       "    <tr>\n",
       "      <th>Steve_Kloves</th>\n",
       "      <td>3495</td>\n",
       "      <td>filmmaker</td>\n",
       "    </tr>\n",
       "    <tr>\n",
       "      <th>Michael_Goldenberg</th>\n",
       "      <td>1329</td>\n",
       "      <td>filmmaker</td>\n",
       "    </tr>\n",
       "  </tbody>\n",
       "</table>\n",
       "</div>"
      ],
      "text/plain": [
       "                                                       n   category\n",
       "curr                                                               \n",
       "Harry_Potter_and_the_Philosopher's_Stone           97945       book\n",
       "Harry_Potter_and_the_Chamber_of_Secrets            26869       book\n",
       "Harry_Potter_and_the_Prisoner_of_Azkaban           27489       book\n",
       "Harry_Potter_and_the_Goblet_of_Fire                34562       book\n",
       "Harry_Potter_and_the_Order_of_the_Phoenix          32604       book\n",
       "Harry_Potter_and_the_Half-Blood_Prince             39548       book\n",
       "Harry_Potter_and_the_Deathly_Hallows               66615       book\n",
       "Harry_Potter_and_the_Philosopher's_Stone_(film)    81015       film\n",
       "Harry_Potter_and_the_Chamber_of_Secrets_(film)     43759       film\n",
       "Harry_Potter_and_the_Prisoner_of_Azkaban_(film)    50635       film\n",
       "Harry_Potter_and_the_Goblet_of_Fire_(film)         54694       film\n",
       "Harry_Potter_and_the_Order_of_the_Phoenix_(film)   49567       film\n",
       "Harry_Potter_and_the_Half-Blood_Prince_(film)      47716       film\n",
       "Harry_Potter_and_the_Deathly_Hallows_–_Part_1      54948       film\n",
       "Harry_Potter_and_the_Deathly_Hallows_–_Part_2      74406       film\n",
       "Daniel_Radcliffe                                  242279       cast\n",
       "Emma_Watson                                       360812       cast\n",
       "Rupert_Grint                                      108866       cast\n",
       "Alan_Rickman                                      312455       cast\n",
       "Ralph_Fiennes                                     215257       cast\n",
       "Richard_Harris                                    117013       cast\n",
       "Michael_Gambon                                     98745       cast\n",
       "Tom_Felton                                         86771       cast\n",
       "Chris_Columbus_(filmmaker)                         25723  filmmaker\n",
       "Alfonso_Cuarón                                     51124  filmmaker\n",
       "Mike_Newell_(director)                              8562  filmmaker\n",
       "David_Yates                                        21664  filmmaker\n",
       "David_Heyman                                        6930  filmmaker\n",
       "David_Barron_(film_producer)                        1264  filmmaker\n",
       "J._K._Rowling                                     273468  filmmaker\n",
       "Steve_Kloves                                        3495  filmmaker\n",
       "Michael_Goldenberg                                  1329  filmmaker"
      ]
     },
     "execution_count": 183,
     "metadata": {},
     "output_type": "execute_result"
    }
   ],
   "source": [
    "popularity_df"
   ]
  },
  {
   "cell_type": "code",
   "execution_count": 184,
   "metadata": {
    "collapsed": false
   },
   "outputs": [
    {
     "data": {
      "text/html": [
       "<div>\n",
       "<table border=\"1\" class=\"dataframe\">\n",
       "  <thead>\n",
       "    <tr style=\"text-align: right;\">\n",
       "      <th></th>\n",
       "      <th>n</th>\n",
       "      <th>category</th>\n",
       "    </tr>\n",
       "    <tr>\n",
       "      <th>curr</th>\n",
       "      <th></th>\n",
       "      <th></th>\n",
       "    </tr>\n",
       "  </thead>\n",
       "  <tbody>\n",
       "    <tr>\n",
       "      <th>Emma_Watson</th>\n",
       "      <td>360812</td>\n",
       "      <td>cast</td>\n",
       "    </tr>\n",
       "    <tr>\n",
       "      <th>Alan_Rickman</th>\n",
       "      <td>312455</td>\n",
       "      <td>cast</td>\n",
       "    </tr>\n",
       "    <tr>\n",
       "      <th>J._K._Rowling</th>\n",
       "      <td>273468</td>\n",
       "      <td>filmmaker</td>\n",
       "    </tr>\n",
       "    <tr>\n",
       "      <th>Daniel_Radcliffe</th>\n",
       "      <td>242279</td>\n",
       "      <td>cast</td>\n",
       "    </tr>\n",
       "    <tr>\n",
       "      <th>Ralph_Fiennes</th>\n",
       "      <td>215257</td>\n",
       "      <td>cast</td>\n",
       "    </tr>\n",
       "    <tr>\n",
       "      <th>Richard_Harris</th>\n",
       "      <td>117013</td>\n",
       "      <td>cast</td>\n",
       "    </tr>\n",
       "    <tr>\n",
       "      <th>Rupert_Grint</th>\n",
       "      <td>108866</td>\n",
       "      <td>cast</td>\n",
       "    </tr>\n",
       "    <tr>\n",
       "      <th>Michael_Gambon</th>\n",
       "      <td>98745</td>\n",
       "      <td>cast</td>\n",
       "    </tr>\n",
       "    <tr>\n",
       "      <th>Harry_Potter_and_the_Philosopher's_Stone</th>\n",
       "      <td>97945</td>\n",
       "      <td>book</td>\n",
       "    </tr>\n",
       "    <tr>\n",
       "      <th>Tom_Felton</th>\n",
       "      <td>86771</td>\n",
       "      <td>cast</td>\n",
       "    </tr>\n",
       "    <tr>\n",
       "      <th>Harry_Potter_and_the_Philosopher's_Stone_(film)</th>\n",
       "      <td>81015</td>\n",
       "      <td>film</td>\n",
       "    </tr>\n",
       "    <tr>\n",
       "      <th>Harry_Potter_and_the_Deathly_Hallows_–_Part_2</th>\n",
       "      <td>74406</td>\n",
       "      <td>film</td>\n",
       "    </tr>\n",
       "    <tr>\n",
       "      <th>Harry_Potter_and_the_Deathly_Hallows</th>\n",
       "      <td>66615</td>\n",
       "      <td>book</td>\n",
       "    </tr>\n",
       "    <tr>\n",
       "      <th>Harry_Potter_and_the_Deathly_Hallows_–_Part_1</th>\n",
       "      <td>54948</td>\n",
       "      <td>film</td>\n",
       "    </tr>\n",
       "    <tr>\n",
       "      <th>Harry_Potter_and_the_Goblet_of_Fire_(film)</th>\n",
       "      <td>54694</td>\n",
       "      <td>film</td>\n",
       "    </tr>\n",
       "    <tr>\n",
       "      <th>Alfonso_Cuarón</th>\n",
       "      <td>51124</td>\n",
       "      <td>filmmaker</td>\n",
       "    </tr>\n",
       "    <tr>\n",
       "      <th>Harry_Potter_and_the_Prisoner_of_Azkaban_(film)</th>\n",
       "      <td>50635</td>\n",
       "      <td>film</td>\n",
       "    </tr>\n",
       "    <tr>\n",
       "      <th>Harry_Potter_and_the_Order_of_the_Phoenix_(film)</th>\n",
       "      <td>49567</td>\n",
       "      <td>film</td>\n",
       "    </tr>\n",
       "    <tr>\n",
       "      <th>Harry_Potter_and_the_Half-Blood_Prince_(film)</th>\n",
       "      <td>47716</td>\n",
       "      <td>film</td>\n",
       "    </tr>\n",
       "    <tr>\n",
       "      <th>Harry_Potter_and_the_Chamber_of_Secrets_(film)</th>\n",
       "      <td>43759</td>\n",
       "      <td>film</td>\n",
       "    </tr>\n",
       "    <tr>\n",
       "      <th>Harry_Potter_and_the_Half-Blood_Prince</th>\n",
       "      <td>39548</td>\n",
       "      <td>book</td>\n",
       "    </tr>\n",
       "    <tr>\n",
       "      <th>Harry_Potter_and_the_Goblet_of_Fire</th>\n",
       "      <td>34562</td>\n",
       "      <td>book</td>\n",
       "    </tr>\n",
       "    <tr>\n",
       "      <th>Harry_Potter_and_the_Order_of_the_Phoenix</th>\n",
       "      <td>32604</td>\n",
       "      <td>book</td>\n",
       "    </tr>\n",
       "    <tr>\n",
       "      <th>Harry_Potter_and_the_Prisoner_of_Azkaban</th>\n",
       "      <td>27489</td>\n",
       "      <td>book</td>\n",
       "    </tr>\n",
       "    <tr>\n",
       "      <th>Harry_Potter_and_the_Chamber_of_Secrets</th>\n",
       "      <td>26869</td>\n",
       "      <td>book</td>\n",
       "    </tr>\n",
       "    <tr>\n",
       "      <th>Chris_Columbus_(filmmaker)</th>\n",
       "      <td>25723</td>\n",
       "      <td>filmmaker</td>\n",
       "    </tr>\n",
       "    <tr>\n",
       "      <th>David_Yates</th>\n",
       "      <td>21664</td>\n",
       "      <td>filmmaker</td>\n",
       "    </tr>\n",
       "    <tr>\n",
       "      <th>Mike_Newell_(director)</th>\n",
       "      <td>8562</td>\n",
       "      <td>filmmaker</td>\n",
       "    </tr>\n",
       "    <tr>\n",
       "      <th>David_Heyman</th>\n",
       "      <td>6930</td>\n",
       "      <td>filmmaker</td>\n",
       "    </tr>\n",
       "    <tr>\n",
       "      <th>Steve_Kloves</th>\n",
       "      <td>3495</td>\n",
       "      <td>filmmaker</td>\n",
       "    </tr>\n",
       "    <tr>\n",
       "      <th>Michael_Goldenberg</th>\n",
       "      <td>1329</td>\n",
       "      <td>filmmaker</td>\n",
       "    </tr>\n",
       "    <tr>\n",
       "      <th>David_Barron_(film_producer)</th>\n",
       "      <td>1264</td>\n",
       "      <td>filmmaker</td>\n",
       "    </tr>\n",
       "  </tbody>\n",
       "</table>\n",
       "</div>"
      ],
      "text/plain": [
       "                                                       n   category\n",
       "curr                                                               \n",
       "Emma_Watson                                       360812       cast\n",
       "Alan_Rickman                                      312455       cast\n",
       "J._K._Rowling                                     273468  filmmaker\n",
       "Daniel_Radcliffe                                  242279       cast\n",
       "Ralph_Fiennes                                     215257       cast\n",
       "Richard_Harris                                    117013       cast\n",
       "Rupert_Grint                                      108866       cast\n",
       "Michael_Gambon                                     98745       cast\n",
       "Harry_Potter_and_the_Philosopher's_Stone           97945       book\n",
       "Tom_Felton                                         86771       cast\n",
       "Harry_Potter_and_the_Philosopher's_Stone_(film)    81015       film\n",
       "Harry_Potter_and_the_Deathly_Hallows_–_Part_2      74406       film\n",
       "Harry_Potter_and_the_Deathly_Hallows               66615       book\n",
       "Harry_Potter_and_the_Deathly_Hallows_–_Part_1      54948       film\n",
       "Harry_Potter_and_the_Goblet_of_Fire_(film)         54694       film\n",
       "Alfonso_Cuarón                                     51124  filmmaker\n",
       "Harry_Potter_and_the_Prisoner_of_Azkaban_(film)    50635       film\n",
       "Harry_Potter_and_the_Order_of_the_Phoenix_(film)   49567       film\n",
       "Harry_Potter_and_the_Half-Blood_Prince_(film)      47716       film\n",
       "Harry_Potter_and_the_Chamber_of_Secrets_(film)     43759       film\n",
       "Harry_Potter_and_the_Half-Blood_Prince             39548       book\n",
       "Harry_Potter_and_the_Goblet_of_Fire                34562       book\n",
       "Harry_Potter_and_the_Order_of_the_Phoenix          32604       book\n",
       "Harry_Potter_and_the_Prisoner_of_Azkaban           27489       book\n",
       "Harry_Potter_and_the_Chamber_of_Secrets            26869       book\n",
       "Chris_Columbus_(filmmaker)                         25723  filmmaker\n",
       "David_Yates                                        21664  filmmaker\n",
       "Mike_Newell_(director)                              8562  filmmaker\n",
       "David_Heyman                                        6930  filmmaker\n",
       "Steve_Kloves                                        3495  filmmaker\n",
       "Michael_Goldenberg                                  1329  filmmaker\n",
       "David_Barron_(film_producer)                        1264  filmmaker"
      ]
     },
     "execution_count": 184,
     "metadata": {},
     "output_type": "execute_result"
    }
   ],
   "source": [
    "popularity_df.sort_values('n', ascending = False)"
   ]
  },
  {
   "cell_type": "markdown",
   "metadata": {},
   "source": [
    "## Facebook vs. Twitter vs. Google"
   ]
  },
  {
   "cell_type": "code",
   "execution_count": 145,
   "metadata": {
    "collapsed": false
   },
   "outputs": [],
   "source": [
    "fb_books_df = pd.DataFrame()\n",
    "\n",
    "for book in book_titles:\n",
    "    fb_books_df = pd.concat([fb_books_df, \n",
    "                              df[(df['curr'] == book) & \n",
    "                                 (df['prev'] == \"other-facebook\")]])"
   ]
  },
  {
   "cell_type": "code",
   "execution_count": 144,
   "metadata": {
    "collapsed": false
   },
   "outputs": [
    {
     "data": {
      "text/html": [
       "<div>\n",
       "<table border=\"1\" class=\"dataframe\">\n",
       "  <thead>\n",
       "    <tr style=\"text-align: right;\">\n",
       "      <th></th>\n",
       "      <th>prev</th>\n",
       "      <th>curr</th>\n",
       "      <th>type</th>\n",
       "      <th>n</th>\n",
       "    </tr>\n",
       "  </thead>\n",
       "  <tbody>\n",
       "    <tr>\n",
       "      <th>13068365</th>\n",
       "      <td>other-facebook</td>\n",
       "      <td>Harry_Potter_and_the_Philosopher's_Stone</td>\n",
       "      <td>external</td>\n",
       "      <td>31</td>\n",
       "    </tr>\n",
       "    <tr>\n",
       "      <th>23855196</th>\n",
       "      <td>other-facebook</td>\n",
       "      <td>Harry_Potter_and_the_Prisoner_of_Azkaban</td>\n",
       "      <td>external</td>\n",
       "      <td>22</td>\n",
       "    </tr>\n",
       "    <tr>\n",
       "      <th>9361546</th>\n",
       "      <td>other-facebook</td>\n",
       "      <td>Harry_Potter_and_the_Goblet_of_Fire</td>\n",
       "      <td>external</td>\n",
       "      <td>25</td>\n",
       "    </tr>\n",
       "    <tr>\n",
       "      <th>23517990</th>\n",
       "      <td>other-facebook</td>\n",
       "      <td>Harry_Potter_and_the_Order_of_the_Phoenix</td>\n",
       "      <td>external</td>\n",
       "      <td>29</td>\n",
       "    </tr>\n",
       "    <tr>\n",
       "      <th>13405924</th>\n",
       "      <td>other-facebook</td>\n",
       "      <td>Harry_Potter_and_the_Deathly_Hallows</td>\n",
       "      <td>external</td>\n",
       "      <td>28</td>\n",
       "    </tr>\n",
       "  </tbody>\n",
       "</table>\n",
       "</div>"
      ],
      "text/plain": [
       "                    prev                                       curr      type  \\\n",
       "13068365  other-facebook   Harry_Potter_and_the_Philosopher's_Stone  external   \n",
       "23855196  other-facebook   Harry_Potter_and_the_Prisoner_of_Azkaban  external   \n",
       "9361546   other-facebook        Harry_Potter_and_the_Goblet_of_Fire  external   \n",
       "23517990  other-facebook  Harry_Potter_and_the_Order_of_the_Phoenix  external   \n",
       "13405924  other-facebook       Harry_Potter_and_the_Deathly_Hallows  external   \n",
       "\n",
       "           n  \n",
       "13068365  31  \n",
       "23855196  22  \n",
       "9361546   25  \n",
       "23517990  29  \n",
       "13405924  28  "
      ]
     },
     "execution_count": 144,
     "metadata": {},
     "output_type": "execute_result"
    }
   ],
   "source": [
    "fb_books_df"
   ]
  },
  {
   "cell_type": "code",
   "execution_count": 146,
   "metadata": {
    "collapsed": false
   },
   "outputs": [
    {
     "data": {
      "text/html": [
       "<div>\n",
       "<table border=\"1\" class=\"dataframe\">\n",
       "  <thead>\n",
       "    <tr style=\"text-align: right;\">\n",
       "      <th></th>\n",
       "      <th>prev</th>\n",
       "      <th>curr</th>\n",
       "      <th>type</th>\n",
       "      <th>n</th>\n",
       "    </tr>\n",
       "  </thead>\n",
       "  <tbody>\n",
       "  </tbody>\n",
       "</table>\n",
       "</div>"
      ],
      "text/plain": [
       "Empty DataFrame\n",
       "Columns: [prev, curr, type, n]\n",
       "Index: []"
      ]
     },
     "execution_count": 146,
     "metadata": {},
     "output_type": "execute_result"
    }
   ],
   "source": [
    "df[(df['curr'] == \"Harry_Potter_and_the_Chamber_of_Secrets\") & \n",
    "   (df['prev'] == \"other-facebook\")]"
   ]
  },
  {
   "cell_type": "code",
   "execution_count": 151,
   "metadata": {
    "collapsed": false
   },
   "outputs": [
    {
     "data": {
      "text/plain": [
       "135"
      ]
     },
     "execution_count": 151,
     "metadata": {},
     "output_type": "execute_result"
    }
   ],
   "source": [
    "fb_books_df.n.sum()"
   ]
  },
  {
   "cell_type": "code",
   "execution_count": 152,
   "metadata": {
    "collapsed": true
   },
   "outputs": [],
   "source": [
    "tw_books_df = pd.DataFrame()\n",
    "\n",
    "for book in book_titles:\n",
    "    tw_books_df = pd.concat([tw_books_df, \n",
    "                              df[(df['curr'] == book) & \n",
    "                                 (df['prev'] == \"other-twitter\")]])"
   ]
  },
  {
   "cell_type": "code",
   "execution_count": 153,
   "metadata": {
    "collapsed": false
   },
   "outputs": [
    {
     "data": {
      "text/html": [
       "<div>\n",
       "<table border=\"1\" class=\"dataframe\">\n",
       "  <thead>\n",
       "    <tr style=\"text-align: right;\">\n",
       "      <th></th>\n",
       "      <th>prev</th>\n",
       "      <th>curr</th>\n",
       "      <th>type</th>\n",
       "      <th>n</th>\n",
       "    </tr>\n",
       "  </thead>\n",
       "  <tbody>\n",
       "    <tr>\n",
       "      <th>24243554</th>\n",
       "      <td>other-twitter</td>\n",
       "      <td>Harry_Potter_and_the_Philosopher's_Stone</td>\n",
       "      <td>external</td>\n",
       "      <td>20</td>\n",
       "    </tr>\n",
       "    <tr>\n",
       "      <th>24580283</th>\n",
       "      <td>other-twitter</td>\n",
       "      <td>Harry_Potter_and_the_Deathly_Hallows</td>\n",
       "      <td>external</td>\n",
       "      <td>37</td>\n",
       "    </tr>\n",
       "  </tbody>\n",
       "</table>\n",
       "</div>"
      ],
      "text/plain": [
       "                   prev                                      curr      type  \\\n",
       "24243554  other-twitter  Harry_Potter_and_the_Philosopher's_Stone  external   \n",
       "24580283  other-twitter      Harry_Potter_and_the_Deathly_Hallows  external   \n",
       "\n",
       "           n  \n",
       "24243554  20  \n",
       "24580283  37  "
      ]
     },
     "execution_count": 153,
     "metadata": {},
     "output_type": "execute_result"
    }
   ],
   "source": [
    "tw_books_df"
   ]
  },
  {
   "cell_type": "code",
   "execution_count": 154,
   "metadata": {
    "collapsed": false
   },
   "outputs": [
    {
     "data": {
      "text/plain": [
       "57"
      ]
     },
     "execution_count": 154,
     "metadata": {},
     "output_type": "execute_result"
    }
   ],
   "source": [
    "tw_books_df.n.sum()"
   ]
  },
  {
   "cell_type": "code",
   "execution_count": 161,
   "metadata": {
    "collapsed": true
   },
   "outputs": [],
   "source": [
    "gg_books_df = pd.DataFrame()\n",
    "\n",
    "for book in book_titles:\n",
    "    gg_books_df = pd.concat([gg_books_df, \n",
    "                              df[(df['curr'] == book) & \n",
    "                                 (df['prev'] == \"other-google\")]])"
   ]
  },
  {
   "cell_type": "code",
   "execution_count": 162,
   "metadata": {
    "collapsed": false
   },
   "outputs": [
    {
     "data": {
      "text/html": [
       "<div>\n",
       "<table border=\"1\" class=\"dataframe\">\n",
       "  <thead>\n",
       "    <tr style=\"text-align: right;\">\n",
       "      <th></th>\n",
       "      <th>prev</th>\n",
       "      <th>curr</th>\n",
       "      <th>type</th>\n",
       "      <th>n</th>\n",
       "    </tr>\n",
       "  </thead>\n",
       "  <tbody>\n",
       "    <tr>\n",
       "      <th>18815211</th>\n",
       "      <td>other-google</td>\n",
       "      <td>Harry_Potter_and_the_Philosopher's_Stone</td>\n",
       "      <td>external</td>\n",
       "      <td>42395</td>\n",
       "    </tr>\n",
       "    <tr>\n",
       "      <th>11062283</th>\n",
       "      <td>other-google</td>\n",
       "      <td>Harry_Potter_and_the_Chamber_of_Secrets</td>\n",
       "      <td>external</td>\n",
       "      <td>9582</td>\n",
       "    </tr>\n",
       "    <tr>\n",
       "      <th>3986580</th>\n",
       "      <td>other-google</td>\n",
       "      <td>Harry_Potter_and_the_Prisoner_of_Azkaban</td>\n",
       "      <td>external</td>\n",
       "      <td>9644</td>\n",
       "    </tr>\n",
       "    <tr>\n",
       "      <th>15106393</th>\n",
       "      <td>other-google</td>\n",
       "      <td>Harry_Potter_and_the_Goblet_of_Fire</td>\n",
       "      <td>external</td>\n",
       "      <td>12862</td>\n",
       "    </tr>\n",
       "    <tr>\n",
       "      <th>3648561</th>\n",
       "      <td>other-google</td>\n",
       "      <td>Harry_Potter_and_the_Order_of_the_Phoenix</td>\n",
       "      <td>external</td>\n",
       "      <td>12246</td>\n",
       "    </tr>\n",
       "    <tr>\n",
       "      <th>19150582</th>\n",
       "      <td>other-google</td>\n",
       "      <td>Harry_Potter_and_the_Half-Blood_Prince</td>\n",
       "      <td>external</td>\n",
       "      <td>17450</td>\n",
       "    </tr>\n",
       "    <tr>\n",
       "      <th>19150581</th>\n",
       "      <td>other-google</td>\n",
       "      <td>Harry_Potter_and_the_Deathly_Hallows</td>\n",
       "      <td>external</td>\n",
       "      <td>23913</td>\n",
       "    </tr>\n",
       "  </tbody>\n",
       "</table>\n",
       "</div>"
      ],
      "text/plain": [
       "                  prev                                       curr      type  \\\n",
       "18815211  other-google   Harry_Potter_and_the_Philosopher's_Stone  external   \n",
       "11062283  other-google    Harry_Potter_and_the_Chamber_of_Secrets  external   \n",
       "3986580   other-google   Harry_Potter_and_the_Prisoner_of_Azkaban  external   \n",
       "15106393  other-google        Harry_Potter_and_the_Goblet_of_Fire  external   \n",
       "3648561   other-google  Harry_Potter_and_the_Order_of_the_Phoenix  external   \n",
       "19150582  other-google     Harry_Potter_and_the_Half-Blood_Prince  external   \n",
       "19150581  other-google       Harry_Potter_and_the_Deathly_Hallows  external   \n",
       "\n",
       "              n  \n",
       "18815211  42395  \n",
       "11062283   9582  \n",
       "3986580    9644  \n",
       "15106393  12862  \n",
       "3648561   12246  \n",
       "19150582  17450  \n",
       "19150581  23913  "
      ]
     },
     "execution_count": 162,
     "metadata": {},
     "output_type": "execute_result"
    }
   ],
   "source": [
    "gg_books_df"
   ]
  },
  {
   "cell_type": "code",
   "execution_count": 163,
   "metadata": {
    "collapsed": false
   },
   "outputs": [
    {
     "data": {
      "text/plain": [
       "128092"
      ]
     },
     "execution_count": 163,
     "metadata": {},
     "output_type": "execute_result"
    }
   ],
   "source": [
    "gg_books_df.n.sum()"
   ]
  },
  {
   "cell_type": "code",
   "execution_count": 155,
   "metadata": {
    "collapsed": true
   },
   "outputs": [],
   "source": [
    "fb_films_df = pd.DataFrame()\n",
    "\n",
    "for title in film_titles:\n",
    "    fb_films_df = pd.concat([fb_films_df, \n",
    "                              df[(df['curr'] == title) & \n",
    "                                 (df['prev'] == \"other-facebook\")]])"
   ]
  },
  {
   "cell_type": "code",
   "execution_count": 156,
   "metadata": {
    "collapsed": false
   },
   "outputs": [
    {
     "data": {
      "text/html": [
       "<div>\n",
       "<table border=\"1\" class=\"dataframe\">\n",
       "  <thead>\n",
       "    <tr style=\"text-align: right;\">\n",
       "      <th></th>\n",
       "      <th>prev</th>\n",
       "      <th>curr</th>\n",
       "      <th>type</th>\n",
       "      <th>n</th>\n",
       "    </tr>\n",
       "  </thead>\n",
       "  <tbody>\n",
       "    <tr>\n",
       "      <th>1609503</th>\n",
       "      <td>other-facebook</td>\n",
       "      <td>Harry_Potter_and_the_Philosopher's_Stone_(film)</td>\n",
       "      <td>external</td>\n",
       "      <td>11</td>\n",
       "    </tr>\n",
       "    <tr>\n",
       "      <th>14753583</th>\n",
       "      <td>other-facebook</td>\n",
       "      <td>Harry_Potter_and_the_Chamber_of_Secrets_(film)</td>\n",
       "      <td>external</td>\n",
       "      <td>12</td>\n",
       "    </tr>\n",
       "    <tr>\n",
       "      <th>9698336</th>\n",
       "      <td>other-facebook</td>\n",
       "      <td>Harry_Potter_and_the_Prisoner_of_Azkaban_(film)</td>\n",
       "      <td>external</td>\n",
       "      <td>24</td>\n",
       "    </tr>\n",
       "    <tr>\n",
       "      <th>10709955</th>\n",
       "      <td>other-facebook</td>\n",
       "      <td>Harry_Potter_and_the_Half-Blood_Prince_(film)</td>\n",
       "      <td>external</td>\n",
       "      <td>11</td>\n",
       "    </tr>\n",
       "    <tr>\n",
       "      <th>18462596</th>\n",
       "      <td>other-facebook</td>\n",
       "      <td>Harry_Potter_and_the_Deathly_Hallows_–_Part_2</td>\n",
       "      <td>external</td>\n",
       "      <td>29</td>\n",
       "    </tr>\n",
       "  </tbody>\n",
       "</table>\n",
       "</div>"
      ],
      "text/plain": [
       "                    prev                                             curr  \\\n",
       "1609503   other-facebook  Harry_Potter_and_the_Philosopher's_Stone_(film)   \n",
       "14753583  other-facebook   Harry_Potter_and_the_Chamber_of_Secrets_(film)   \n",
       "9698336   other-facebook  Harry_Potter_and_the_Prisoner_of_Azkaban_(film)   \n",
       "10709955  other-facebook    Harry_Potter_and_the_Half-Blood_Prince_(film)   \n",
       "18462596  other-facebook    Harry_Potter_and_the_Deathly_Hallows_–_Part_2   \n",
       "\n",
       "              type   n  \n",
       "1609503   external  11  \n",
       "14753583  external  12  \n",
       "9698336   external  24  \n",
       "10709955  external  11  \n",
       "18462596  external  29  "
      ]
     },
     "execution_count": 156,
     "metadata": {},
     "output_type": "execute_result"
    }
   ],
   "source": [
    "fb_films_df"
   ]
  },
  {
   "cell_type": "code",
   "execution_count": 157,
   "metadata": {
    "collapsed": false
   },
   "outputs": [
    {
     "data": {
      "text/plain": [
       "87"
      ]
     },
     "execution_count": 157,
     "metadata": {},
     "output_type": "execute_result"
    }
   ],
   "source": [
    "fb_films_df.n.sum()"
   ]
  },
  {
   "cell_type": "code",
   "execution_count": 158,
   "metadata": {
    "collapsed": true
   },
   "outputs": [],
   "source": [
    "tw_films_df = pd.DataFrame()\n",
    "\n",
    "for title in film_titles:\n",
    "    tw_films_df = pd.concat([tw_films_df, \n",
    "                              df[(df['curr'] == title) & \n",
    "                                 (df['prev'] == \"other-twitter\")]])"
   ]
  },
  {
   "cell_type": "code",
   "execution_count": 159,
   "metadata": {
    "collapsed": false
   },
   "outputs": [
    {
     "data": {
      "text/html": [
       "<div>\n",
       "<table border=\"1\" class=\"dataframe\">\n",
       "  <thead>\n",
       "    <tr style=\"text-align: right;\">\n",
       "      <th></th>\n",
       "      <th>prev</th>\n",
       "      <th>curr</th>\n",
       "      <th>type</th>\n",
       "      <th>n</th>\n",
       "    </tr>\n",
       "  </thead>\n",
       "  <tbody>\n",
       "    <tr>\n",
       "      <th>12783359</th>\n",
       "      <td>other-twitter</td>\n",
       "      <td>Harry_Potter_and_the_Philosopher's_Stone_(film)</td>\n",
       "      <td>external</td>\n",
       "      <td>15</td>\n",
       "    </tr>\n",
       "    <tr>\n",
       "      <th>313930</th>\n",
       "      <td>other-twitter</td>\n",
       "      <td>Harry_Potter_and_the_Chamber_of_Secrets_(film)</td>\n",
       "      <td>external</td>\n",
       "      <td>37</td>\n",
       "    </tr>\n",
       "    <tr>\n",
       "      <th>20873580</th>\n",
       "      <td>other-twitter</td>\n",
       "      <td>Harry_Potter_and_the_Prisoner_of_Azkaban_(film)</td>\n",
       "      <td>external</td>\n",
       "      <td>15</td>\n",
       "    </tr>\n",
       "  </tbody>\n",
       "</table>\n",
       "</div>"
      ],
      "text/plain": [
       "                   prev                                             curr  \\\n",
       "12783359  other-twitter  Harry_Potter_and_the_Philosopher's_Stone_(film)   \n",
       "313930    other-twitter   Harry_Potter_and_the_Chamber_of_Secrets_(film)   \n",
       "20873580  other-twitter  Harry_Potter_and_the_Prisoner_of_Azkaban_(film)   \n",
       "\n",
       "              type   n  \n",
       "12783359  external  15  \n",
       "313930    external  37  \n",
       "20873580  external  15  "
      ]
     },
     "execution_count": 159,
     "metadata": {},
     "output_type": "execute_result"
    }
   ],
   "source": [
    "tw_films_df"
   ]
  },
  {
   "cell_type": "code",
   "execution_count": 160,
   "metadata": {
    "collapsed": false
   },
   "outputs": [
    {
     "data": {
      "text/plain": [
       "67"
      ]
     },
     "execution_count": 160,
     "metadata": {},
     "output_type": "execute_result"
    }
   ],
   "source": [
    "tw_films_df.n.sum()"
   ]
  },
  {
   "cell_type": "code",
   "execution_count": 165,
   "metadata": {
    "collapsed": false
   },
   "outputs": [],
   "source": [
    "gg_films_df = pd.DataFrame()\n",
    "\n",
    "for title in film_titles:\n",
    "    gg_films_df = pd.concat([gg_films_df, \n",
    "                              df[(df['curr'] == title) & \n",
    "                                 (df['prev'] == \"other-google\")]])"
   ]
  },
  {
   "cell_type": "code",
   "execution_count": 166,
   "metadata": {
    "collapsed": false
   },
   "outputs": [
    {
     "data": {
      "text/html": [
       "<div>\n",
       "<table border=\"1\" class=\"dataframe\">\n",
       "  <thead>\n",
       "    <tr style=\"text-align: right;\">\n",
       "      <th></th>\n",
       "      <th>prev</th>\n",
       "      <th>curr</th>\n",
       "      <th>type</th>\n",
       "      <th>n</th>\n",
       "    </tr>\n",
       "  </thead>\n",
       "  <tbody>\n",
       "    <tr>\n",
       "      <th>7354754</th>\n",
       "      <td>other-google</td>\n",
       "      <td>Harry_Potter_and_the_Philosopher's_Stone_(film)</td>\n",
       "      <td>external</td>\n",
       "      <td>29643</td>\n",
       "    </tr>\n",
       "    <tr>\n",
       "      <th>20499834</th>\n",
       "      <td>other-google</td>\n",
       "      <td>Harry_Potter_and_the_Chamber_of_Secrets_(film)</td>\n",
       "      <td>external</td>\n",
       "      <td>18594</td>\n",
       "    </tr>\n",
       "    <tr>\n",
       "      <th>15444543</th>\n",
       "      <td>other-google</td>\n",
       "      <td>Harry_Potter_and_the_Prisoner_of_Azkaban_(film)</td>\n",
       "      <td>external</td>\n",
       "      <td>21140</td>\n",
       "    </tr>\n",
       "    <tr>\n",
       "      <th>11062285</th>\n",
       "      <td>other-google</td>\n",
       "      <td>Harry_Potter_and_the_Goblet_of_Fire_(film)</td>\n",
       "      <td>external</td>\n",
       "      <td>22132</td>\n",
       "    </tr>\n",
       "    <tr>\n",
       "      <th>18478288</th>\n",
       "      <td>other-google</td>\n",
       "      <td>Harry_Potter_and_the_Order_of_the_Phoenix_(film)</td>\n",
       "      <td>external</td>\n",
       "      <td>19469</td>\n",
       "    </tr>\n",
       "    <tr>\n",
       "      <th>16455228</th>\n",
       "      <td>other-google</td>\n",
       "      <td>Harry_Potter_and_the_Half-Blood_Prince_(film)</td>\n",
       "      <td>external</td>\n",
       "      <td>17601</td>\n",
       "    </tr>\n",
       "    <tr>\n",
       "      <th>23871027</th>\n",
       "      <td>other-google</td>\n",
       "      <td>Harry_Potter_and_the_Deathly_Hallows_–_Part_1</td>\n",
       "      <td>external</td>\n",
       "      <td>19215</td>\n",
       "    </tr>\n",
       "    <tr>\n",
       "      <th>24207775</th>\n",
       "      <td>other-google</td>\n",
       "      <td>Harry_Potter_and_the_Deathly_Hallows_–_Part_2</td>\n",
       "      <td>external</td>\n",
       "      <td>25155</td>\n",
       "    </tr>\n",
       "  </tbody>\n",
       "</table>\n",
       "</div>"
      ],
      "text/plain": [
       "                  prev                                              curr  \\\n",
       "7354754   other-google   Harry_Potter_and_the_Philosopher's_Stone_(film)   \n",
       "20499834  other-google    Harry_Potter_and_the_Chamber_of_Secrets_(film)   \n",
       "15444543  other-google   Harry_Potter_and_the_Prisoner_of_Azkaban_(film)   \n",
       "11062285  other-google        Harry_Potter_and_the_Goblet_of_Fire_(film)   \n",
       "18478288  other-google  Harry_Potter_and_the_Order_of_the_Phoenix_(film)   \n",
       "16455228  other-google     Harry_Potter_and_the_Half-Blood_Prince_(film)   \n",
       "23871027  other-google     Harry_Potter_and_the_Deathly_Hallows_–_Part_1   \n",
       "24207775  other-google     Harry_Potter_and_the_Deathly_Hallows_–_Part_2   \n",
       "\n",
       "              type      n  \n",
       "7354754   external  29643  \n",
       "20499834  external  18594  \n",
       "15444543  external  21140  \n",
       "11062285  external  22132  \n",
       "18478288  external  19469  \n",
       "16455228  external  17601  \n",
       "23871027  external  19215  \n",
       "24207775  external  25155  "
      ]
     },
     "execution_count": 166,
     "metadata": {},
     "output_type": "execute_result"
    }
   ],
   "source": [
    "gg_films_df"
   ]
  },
  {
   "cell_type": "code",
   "execution_count": 167,
   "metadata": {
    "collapsed": false
   },
   "outputs": [
    {
     "data": {
      "text/plain": [
       "172949"
      ]
     },
     "execution_count": 167,
     "metadata": {},
     "output_type": "execute_result"
    }
   ],
   "source": [
    "gg_films_df.n.sum()"
   ]
  },
  {
   "cell_type": "markdown",
   "metadata": {},
   "source": [
    "## Sankey Diagram for J.K. Rowling"
   ]
  },
  {
   "cell_type": "code",
   "execution_count": 194,
   "metadata": {
    "collapsed": true
   },
   "outputs": [],
   "source": [
    "jkr_df_in = df[df['curr'] == 'J._K._Rowling']"
   ]
  },
  {
   "cell_type": "code",
   "execution_count": 195,
   "metadata": {
    "collapsed": false
   },
   "outputs": [
    {
     "data": {
      "text/html": [
       "<div>\n",
       "<table border=\"1\" class=\"dataframe\">\n",
       "  <thead>\n",
       "    <tr style=\"text-align: right;\">\n",
       "      <th></th>\n",
       "      <th>n</th>\n",
       "    </tr>\n",
       "    <tr>\n",
       "      <th>prev</th>\n",
       "      <th></th>\n",
       "    </tr>\n",
       "  </thead>\n",
       "  <tbody>\n",
       "    <tr>\n",
       "      <th>other-google</th>\n",
       "      <td>152184</td>\n",
       "    </tr>\n",
       "    <tr>\n",
       "      <th>other-empty</th>\n",
       "      <td>58219</td>\n",
       "    </tr>\n",
       "    <tr>\n",
       "      <th>other-wikipedia</th>\n",
       "      <td>8758</td>\n",
       "    </tr>\n",
       "    <tr>\n",
       "      <th>other-bing</th>\n",
       "      <td>8514</td>\n",
       "    </tr>\n",
       "    <tr>\n",
       "      <th>Harry_Potter</th>\n",
       "      <td>7783</td>\n",
       "    </tr>\n",
       "    <tr>\n",
       "      <th>Robert_Galbraith</th>\n",
       "      <td>5878</td>\n",
       "    </tr>\n",
       "    <tr>\n",
       "      <th>other-other</th>\n",
       "      <td>3845</td>\n",
       "    </tr>\n",
       "    <tr>\n",
       "      <th>other-twitter</th>\n",
       "      <td>3742</td>\n",
       "    </tr>\n",
       "    <tr>\n",
       "      <th>other-yahoo</th>\n",
       "      <td>3633</td>\n",
       "    </tr>\n",
       "    <tr>\n",
       "      <th>Main_Page</th>\n",
       "      <td>2178</td>\n",
       "    </tr>\n",
       "  </tbody>\n",
       "</table>\n",
       "</div>"
      ],
      "text/plain": [
       "                       n\n",
       "prev                    \n",
       "other-google      152184\n",
       "other-empty        58219\n",
       "other-wikipedia     8758\n",
       "other-bing          8514\n",
       "Harry_Potter        7783\n",
       "Robert_Galbraith    5878\n",
       "other-other         3845\n",
       "other-twitter       3742\n",
       "other-yahoo         3633\n",
       "Main_Page           2178"
      ]
     },
     "execution_count": 195,
     "metadata": {},
     "output_type": "execute_result"
    }
   ],
   "source": [
    "jkr_df_in.groupby('prev').sum().sort_values('n', ascending=False).head(10)"
   ]
  },
  {
   "cell_type": "code",
   "execution_count": 196,
   "metadata": {
    "collapsed": true
   },
   "outputs": [],
   "source": [
    "jkr_df_out = df[df['prev'] == 'J._K._Rowling']"
   ]
  },
  {
   "cell_type": "code",
   "execution_count": 197,
   "metadata": {
    "collapsed": false
   },
   "outputs": [
    {
     "data": {
      "text/html": [
       "<div>\n",
       "<table border=\"1\" class=\"dataframe\">\n",
       "  <thead>\n",
       "    <tr style=\"text-align: right;\">\n",
       "      <th></th>\n",
       "      <th>n</th>\n",
       "    </tr>\n",
       "    <tr>\n",
       "      <th>curr</th>\n",
       "      <th></th>\n",
       "    </tr>\n",
       "  </thead>\n",
       "  <tbody>\n",
       "    <tr>\n",
       "      <th>Harry_Potter_and_the_Cursed_Child</th>\n",
       "      <td>7398</td>\n",
       "    </tr>\n",
       "    <tr>\n",
       "      <th>The_Cuckoo's_Calling</th>\n",
       "      <td>4200</td>\n",
       "    </tr>\n",
       "    <tr>\n",
       "      <th>The_Casual_Vacancy</th>\n",
       "      <td>3929</td>\n",
       "    </tr>\n",
       "    <tr>\n",
       "      <th>Harry_Potter</th>\n",
       "      <td>3729</td>\n",
       "    </tr>\n",
       "    <tr>\n",
       "      <th>Fantastic_Beasts_and_Where_to_Find_Them</th>\n",
       "      <td>3567</td>\n",
       "    </tr>\n",
       "    <tr>\n",
       "      <th>Career_of_Evil</th>\n",
       "      <td>3284</td>\n",
       "    </tr>\n",
       "    <tr>\n",
       "      <th>Harry_Potter_prequel</th>\n",
       "      <td>3224</td>\n",
       "    </tr>\n",
       "    <tr>\n",
       "      <th>List_of_highest-grossing_films</th>\n",
       "      <td>2360</td>\n",
       "    </tr>\n",
       "    <tr>\n",
       "      <th>Harry_Potter_and_the_Philosopher's_Stone</th>\n",
       "      <td>1723</td>\n",
       "    </tr>\n",
       "    <tr>\n",
       "      <th>The_Silkworm</th>\n",
       "      <td>1527</td>\n",
       "    </tr>\n",
       "  </tbody>\n",
       "</table>\n",
       "</div>"
      ],
      "text/plain": [
       "                                             n\n",
       "curr                                          \n",
       "Harry_Potter_and_the_Cursed_Child         7398\n",
       "The_Cuckoo's_Calling                      4200\n",
       "The_Casual_Vacancy                        3929\n",
       "Harry_Potter                              3729\n",
       "Fantastic_Beasts_and_Where_to_Find_Them   3567\n",
       "Career_of_Evil                            3284\n",
       "Harry_Potter_prequel                      3224\n",
       "List_of_highest-grossing_films            2360\n",
       "Harry_Potter_and_the_Philosopher's_Stone  1723\n",
       "The_Silkworm                              1527"
      ]
     },
     "execution_count": 197,
     "metadata": {},
     "output_type": "execute_result"
    }
   ],
   "source": [
    "jkr_df_out.groupby('curr').sum().sort_values('n', ascending=False).head(10)"
   ]
  },
  {
   "cell_type": "code",
   "execution_count": null,
   "metadata": {
    "collapsed": true
   },
   "outputs": [],
   "source": [
    "%%html\n",
    "\n",
    "  google.charts.load('current', {'packages':['sankey']});"
   ]
  },
  {
   "cell_type": "code",
   "execution_count": 1,
   "metadata": {
    "collapsed": false
   },
   "outputs": [
    {
     "data": {
      "text/html": [
       "\n",
       "<html>\n",
       "  <head>\n",
       "    <script type=\"text/javascript\" src=\"https://www.gstatic.com/charts/loader.js\"></script>\n",
       "    <script type=\"text/javascript\">\n",
       "     google.charts.load('current', {'packages':['sankey']});\n",
       "      google.charts.setOnLoadCallback(drawChart);\n",
       "\n",
       "      function drawChart() {\n",
       "        var data = new google.visualization.DataTable();\n",
       "        data.addColumn('string', 'From');\n",
       "        data.addColumn('string', 'To');\n",
       "        data.addColumn('number', 'Weight');\n",
       "\n",
       "        data.addRows([\n",
       "          [ 'other-google', 'JK Rowling', 152184 ],\n",
       "          [ 'other-empty', 'JK Rowling', 58219],\n",
       "          [ 'other-wikipedia', 'JK Rowling', 8758 ],\n",
       "          [ 'other-bing', 'JK Rowling', 8514  ],\n",
       "          [ 'Harry_Potter', 'JK Rowling', 7783 ],\n",
       "          [ 'Robert_Galbraith', 'JK Rowling', 5878],\n",
       "          [ 'JK Rowling', 'Harry_Potter_and_the_Cursed_Child', 7398],\n",
       "          [ 'JK Rowling', \"The_Cuckoo's_Calling\", 4200],\n",
       "          [ 'JK Rowling', 'The_Casual_Vacancy', 3929],\n",
       "          [ 'JK Rowling', 'Harry_Potter ', 3729],\n",
       "          [ 'JK Rowling', 'Fantastic_Beasts_and_Where_to_Find_Them', 3567],\n",
       "          [ 'JK Rowling', 'Career_of_Evil', 3284],\n",
       "        ]);\n",
       "\n",
       "        // Sets chart options.\n",
       "        var options = {\n",
       "          width: 600,\n",
       "        };\n",
       "\n",
       "        // Instantiates and draws our chart, passing in some options.\n",
       "        var chart = new google.visualization.Sankey(document.getElementById('sankey_jkr'));\n",
       "        chart.draw(data, options);\n",
       "      }\n",
       "    </script>\n",
       "  </head>\n",
       "  <body>\n",
       "    <div id=\"sankey_jkr\" style=\"width: 900px; height: 300px;\"></div>\n",
       "  </body>\n",
       "</html>"
      ],
      "text/plain": [
       "<IPython.core.display.HTML object>"
      ]
     },
     "metadata": {},
     "output_type": "display_data"
    }
   ],
   "source": [
    "%%html\n",
    "\n",
    "<html>\n",
    "  <head>\n",
    "    <script type=\"text/javascript\" src=\"https://www.gstatic.com/charts/loader.js\"></script>\n",
    "    <script type=\"text/javascript\">\n",
    "     google.charts.load('current', {'packages':['sankey']});\n",
    "      google.charts.setOnLoadCallback(drawChart);\n",
    "\n",
    "      function drawChart() {\n",
    "        var data = new google.visualization.DataTable();\n",
    "        data.addColumn('string', 'From');\n",
    "        data.addColumn('string', 'To');\n",
    "        data.addColumn('number', 'Weight');\n",
    "\n",
    "        data.addRows([\n",
    "          [ 'other-google', 'JK Rowling', 152184 ],\n",
    "          [ 'other-empty', 'JK Rowling', 58219],\n",
    "          [ 'other-wikipedia', 'JK Rowling', 8758 ],\n",
    "          [ 'other-bing', 'JK Rowling', 8514  ],\n",
    "          [ 'Harry_Potter', 'JK Rowling', 7783 ],\n",
    "          [ 'Robert_Galbraith', 'JK Rowling', 5878],\n",
    "          [ 'JK Rowling', 'Harry_Potter_and_the_Cursed_Child', 7398],\n",
    "          [ 'JK Rowling', \"The_Cuckoo's_Calling\", 4200],\n",
    "          [ 'JK Rowling', 'The_Casual_Vacancy', 3929],\n",
    "          [ 'JK Rowling', 'Harry_Potter ', 3729],\n",
    "          [ 'JK Rowling', 'Fantastic_Beasts_and_Where_to_Find_Them', 3567],\n",
    "          [ 'JK Rowling', 'Career_of_Evil', 3284],\n",
    "        ]);\n",
    "\n",
    "        // Sets chart options.\n",
    "        var options = {\n",
    "          width: 600,\n",
    "        };\n",
    "\n",
    "        // Instantiates and draws our chart, passing in some options.\n",
    "        var chart = new google.visualization.Sankey(document.getElementById('sankey_jkr'));\n",
    "        chart.draw(data, options);\n",
    "      }\n",
    "    </script>\n",
    "  </head>\n",
    "  <body>\n",
    "    <div id=\"sankey_jkr\" style=\"width: 900px; height: 300px;\"></div>\n",
    "  </body>\n",
    "</html>"
   ]
  },
  {
   "cell_type": "markdown",
   "metadata": {},
   "source": [
    "## Sankey Diagram for Emma Watson"
   ]
  },
  {
   "cell_type": "code",
   "execution_count": 252,
   "metadata": {
    "collapsed": false
   },
   "outputs": [
    {
     "data": {
      "text/html": [
       "<div>\n",
       "<table border=\"1\" class=\"dataframe\">\n",
       "  <thead>\n",
       "    <tr style=\"text-align: right;\">\n",
       "      <th></th>\n",
       "      <th>prev</th>\n",
       "      <th>curr</th>\n",
       "      <th>type</th>\n",
       "      <th>n</th>\n",
       "    </tr>\n",
       "  </thead>\n",
       "  <tbody>\n",
       "    <tr>\n",
       "      <th>16789767</th>\n",
       "      <td>other-google</td>\n",
       "      <td>Emma_Watson</td>\n",
       "      <td>external</td>\n",
       "      <td>186288</td>\n",
       "    </tr>\n",
       "    <tr>\n",
       "      <th>25504458</th>\n",
       "      <td>other-empty</td>\n",
       "      <td>Emma_Watson</td>\n",
       "      <td>external</td>\n",
       "      <td>92830</td>\n",
       "    </tr>\n",
       "    <tr>\n",
       "      <th>20878093</th>\n",
       "      <td>other-wikipedia</td>\n",
       "      <td>Emma_Watson</td>\n",
       "      <td>external</td>\n",
       "      <td>9025</td>\n",
       "    </tr>\n",
       "    <tr>\n",
       "      <th>7434448</th>\n",
       "      <td>Beauty_and_the_Beast_(2017_film)</td>\n",
       "      <td>Emma_Watson</td>\n",
       "      <td>link</td>\n",
       "      <td>7823</td>\n",
       "    </tr>\n",
       "    <tr>\n",
       "      <th>9505005</th>\n",
       "      <td>Harry_Potter_(film_series)</td>\n",
       "      <td>Emma_Watson</td>\n",
       "      <td>link</td>\n",
       "      <td>5779</td>\n",
       "    </tr>\n",
       "    <tr>\n",
       "      <th>21100462</th>\n",
       "      <td>other-bing</td>\n",
       "      <td>Emma_Watson</td>\n",
       "      <td>external</td>\n",
       "      <td>5077</td>\n",
       "    </tr>\n",
       "  </tbody>\n",
       "</table>\n",
       "</div>"
      ],
      "text/plain": [
       "                                      prev         curr      type       n\n",
       "16789767                      other-google  Emma_Watson  external  186288\n",
       "25504458                       other-empty  Emma_Watson  external   92830\n",
       "20878093                   other-wikipedia  Emma_Watson  external    9025\n",
       "7434448   Beauty_and_the_Beast_(2017_film)  Emma_Watson      link    7823\n",
       "9505005         Harry_Potter_(film_series)  Emma_Watson      link    5779\n",
       "21100462                        other-bing  Emma_Watson  external    5077"
      ]
     },
     "execution_count": 252,
     "metadata": {},
     "output_type": "execute_result"
    }
   ],
   "source": [
    "df[df.curr == 'Emma_Watson'].sort_values('n', ascending=False).head(6)"
   ]
  },
  {
   "cell_type": "code",
   "execution_count": 253,
   "metadata": {
    "collapsed": false
   },
   "outputs": [
    {
     "data": {
      "text/html": [
       "<div>\n",
       "<table border=\"1\" class=\"dataframe\">\n",
       "  <thead>\n",
       "    <tr style=\"text-align: right;\">\n",
       "      <th></th>\n",
       "      <th>prev</th>\n",
       "      <th>curr</th>\n",
       "      <th>type</th>\n",
       "      <th>n</th>\n",
       "    </tr>\n",
       "  </thead>\n",
       "  <tbody>\n",
       "    <tr>\n",
       "      <th>15555307</th>\n",
       "      <td>Emma_Watson</td>\n",
       "      <td>Beauty_and_the_Beast_(2017_film)</td>\n",
       "      <td>link</td>\n",
       "      <td>16899</td>\n",
       "    </tr>\n",
       "    <tr>\n",
       "      <th>9825297</th>\n",
       "      <td>Emma_Watson</td>\n",
       "      <td>Matthew_Janney</td>\n",
       "      <td>link</td>\n",
       "      <td>12389</td>\n",
       "    </tr>\n",
       "    <tr>\n",
       "      <th>389211</th>\n",
       "      <td>Emma_Watson</td>\n",
       "      <td>Universalism</td>\n",
       "      <td>other</td>\n",
       "      <td>10874</td>\n",
       "    </tr>\n",
       "    <tr>\n",
       "      <th>19262208</th>\n",
       "      <td>Emma_Watson</td>\n",
       "      <td>The_Circle_(2016_film)</td>\n",
       "      <td>link</td>\n",
       "      <td>10234</td>\n",
       "    </tr>\n",
       "    <tr>\n",
       "      <th>11510124</th>\n",
       "      <td>Emma_Watson</td>\n",
       "      <td>Colonia_(film)</td>\n",
       "      <td>link</td>\n",
       "      <td>8252</td>\n",
       "    </tr>\n",
       "    <tr>\n",
       "      <th>17577720</th>\n",
       "      <td>Emma_Watson</td>\n",
       "      <td>Regression_(film)</td>\n",
       "      <td>link</td>\n",
       "      <td>7160</td>\n",
       "    </tr>\n",
       "  </tbody>\n",
       "</table>\n",
       "</div>"
      ],
      "text/plain": [
       "                 prev                              curr   type      n\n",
       "15555307  Emma_Watson  Beauty_and_the_Beast_(2017_film)   link  16899\n",
       "9825297   Emma_Watson                    Matthew_Janney   link  12389\n",
       "389211    Emma_Watson                      Universalism  other  10874\n",
       "19262208  Emma_Watson            The_Circle_(2016_film)   link  10234\n",
       "11510124  Emma_Watson                    Colonia_(film)   link   8252\n",
       "17577720  Emma_Watson                 Regression_(film)   link   7160"
      ]
     },
     "execution_count": 253,
     "metadata": {},
     "output_type": "execute_result"
    }
   ],
   "source": [
    "df[df.prev == 'Emma_Watson'].sort_values('n', ascending=False).head(6)"
   ]
  },
  {
   "cell_type": "code",
   "execution_count": 254,
   "metadata": {
    "collapsed": false
   },
   "outputs": [
    {
     "data": {
      "text/html": [
       "\n",
       "<!DOCTYPE html>\n",
       "<html>\n",
       " <head>\n",
       "   <script type=\"text/javascript\" src=\"https://www.gstatic.com/charts/loader.js\"></script>\n",
       "   <script type=\"text/javascript\">\n",
       "   \n",
       "     google.charts.setOnLoadCallback(drawChart);\n",
       "\n",
       "     function drawChart() {\n",
       "       var data = new google.visualization.DataTable();\n",
       "       data.addColumn('string', 'From');\n",
       "       data.addColumn('string', 'To');\n",
       "       data.addColumn('number', 'Weight');\n",
       "       data.addRows([\n",
       "         [ 'other-google', 'Emma_Watson', 186288 ],\n",
       "         [ 'other-empty', 'Emma_Watson', 92830 ],\n",
       "         [ 'other-wikipedia', 'Emma_Watson', 9025 ],\n",
       "         [ 'Beauty_and_the_Beast_(2017_film)', 'Emma_Watson', 7823 ],      \n",
       "         [ 'Harry_Potter_(film_series)', 'Emma_Watson', 5779 ],\n",
       "         [ 'other-bing', 'Emma_Watson', 5077 ], \n",
       "         [ 'Emma_Watson', 'Beauty_and_the_Beast_(2017_film) ', 16899 ],\n",
       "         [ 'Emma_Watson', 'Matthew_Janney', 12389 ],\n",
       "         [ 'Emma_Watson', 'Universalism', 10874 ],\n",
       "         [ 'Emma_Watson', 'The_Circle_(2016_film)', 10234 ],\n",
       "         [ 'Emma_Watson', 'Colonia_(film)', 8252 ],\n",
       "         [ 'Emma_Watson', 'Regression_(film)', 7160 ]                \n",
       "       ]);\n",
       "\n",
       "       // Sets chart options.\n",
       "       var options = {\n",
       "         width: 600,\n",
       "       };\n",
       "\n",
       "       // Instantiates and draws our chart, passing in some options.\n",
       "       var chart = new google.visualization.Sankey(document.getElementById('sankey_ew'));\n",
       "       chart.draw(data, options);\n",
       "     }\n",
       "   </script>\n",
       " </head>\n",
       " <body>\n",
       "   <div id=\"sankey_ew\" style=\"width: 900px; height: 300px;\"></div>\n",
       " </body>\n",
       "</html>"
      ],
      "text/plain": [
       "<IPython.core.display.HTML object>"
      ]
     },
     "metadata": {},
     "output_type": "display_data"
    }
   ],
   "source": [
    "%%html\n",
    "\n",
    "<!DOCTYPE html>\n",
    "<html>\n",
    " <head>\n",
    "   <script type=\"text/javascript\" src=\"https://www.gstatic.com/charts/loader.js\"></script>\n",
    "   <script type=\"text/javascript\">\n",
    "   \n",
    "     google.charts.setOnLoadCallback(drawChart);\n",
    "\n",
    "     function drawChart() {\n",
    "       var data = new google.visualization.DataTable();\n",
    "       data.addColumn('string', 'From');\n",
    "       data.addColumn('string', 'To');\n",
    "       data.addColumn('number', 'Weight');\n",
    "       data.addRows([\n",
    "         [ 'other-google', 'Emma_Watson', 186288 ],\n",
    "         [ 'other-empty', 'Emma_Watson', 92830 ],\n",
    "         [ 'other-wikipedia', 'Emma_Watson', 9025 ],\n",
    "         [ 'Beauty_and_the_Beast_(2017_film)', 'Emma_Watson', 7823 ],      \n",
    "         [ 'Harry_Potter_(film_series)', 'Emma_Watson', 5779 ],\n",
    "         [ 'other-bing', 'Emma_Watson', 5077 ], \n",
    "         [ 'Emma_Watson', 'Beauty_and_the_Beast_(2017_film) ', 16899 ],\n",
    "         [ 'Emma_Watson', 'Matthew_Janney', 12389 ],\n",
    "         [ 'Emma_Watson', 'Universalism', 10874 ],\n",
    "         [ 'Emma_Watson', 'The_Circle_(2016_film)', 10234 ],\n",
    "         [ 'Emma_Watson', 'Colonia_(film)', 8252 ],\n",
    "         [ 'Emma_Watson', 'Regression_(film)', 7160 ]                \n",
    "       ]);\n",
    "\n",
    "       // Sets chart options.\n",
    "       var options = {\n",
    "         width: 600,\n",
    "       };\n",
    "\n",
    "       // Instantiates and draws our chart, passing in some options.\n",
    "       var chart = new google.visualization.Sankey(document.getElementById('sankey_ew'));\n",
    "       chart.draw(data, options);\n",
    "     }\n",
    "   </script>\n",
    " </head>\n",
    " <body>\n",
    "   <div id=\"sankey_ew\" style=\"width: 900px; height: 300px;\"></div>\n",
    " </body>\n",
    "</html>"
   ]
  },
  {
   "cell_type": "markdown",
   "metadata": {},
   "source": [
    "## Sankey Diagram for cast to film"
   ]
  },
  {
   "cell_type": "code",
   "execution_count": 223,
   "metadata": {
    "collapsed": false
   },
   "outputs": [
    {
     "data": {
      "text/html": [
       "<div>\n",
       "<table border=\"1\" class=\"dataframe\">\n",
       "  <thead>\n",
       "    <tr style=\"text-align: right;\">\n",
       "      <th></th>\n",
       "      <th>prev</th>\n",
       "      <th>curr</th>\n",
       "      <th>type</th>\n",
       "      <th>n</th>\n",
       "    </tr>\n",
       "  </thead>\n",
       "  <tbody>\n",
       "    <tr>\n",
       "      <th>16789767</th>\n",
       "      <td>other-google</td>\n",
       "      <td>Emma_Watson</td>\n",
       "      <td>external</td>\n",
       "      <td>186288</td>\n",
       "    </tr>\n",
       "    <tr>\n",
       "      <th>25504458</th>\n",
       "      <td>other-empty</td>\n",
       "      <td>Emma_Watson</td>\n",
       "      <td>external</td>\n",
       "      <td>92830</td>\n",
       "    </tr>\n",
       "    <tr>\n",
       "      <th>20878093</th>\n",
       "      <td>other-wikipedia</td>\n",
       "      <td>Emma_Watson</td>\n",
       "      <td>external</td>\n",
       "      <td>9025</td>\n",
       "    </tr>\n",
       "    <tr>\n",
       "      <th>7434448</th>\n",
       "      <td>Beauty_and_the_Beast_(2017_film)</td>\n",
       "      <td>Emma_Watson</td>\n",
       "      <td>link</td>\n",
       "      <td>7823</td>\n",
       "    </tr>\n",
       "    <tr>\n",
       "      <th>9505005</th>\n",
       "      <td>Harry_Potter_(film_series)</td>\n",
       "      <td>Emma_Watson</td>\n",
       "      <td>link</td>\n",
       "      <td>5779</td>\n",
       "    </tr>\n",
       "    <tr>\n",
       "      <th>21100462</th>\n",
       "      <td>other-bing</td>\n",
       "      <td>Emma_Watson</td>\n",
       "      <td>external</td>\n",
       "      <td>5077</td>\n",
       "    </tr>\n",
       "    <tr>\n",
       "      <th>7046373</th>\n",
       "      <td>other-other</td>\n",
       "      <td>Emma_Watson</td>\n",
       "      <td>external</td>\n",
       "      <td>5070</td>\n",
       "    </tr>\n",
       "    <tr>\n",
       "      <th>17933285</th>\n",
       "      <td>Hermione_Granger</td>\n",
       "      <td>Emma_Watson</td>\n",
       "      <td>link</td>\n",
       "      <td>4066</td>\n",
       "    </tr>\n",
       "    <tr>\n",
       "      <th>12511344</th>\n",
       "      <td>Daniel_Radcliffe</td>\n",
       "      <td>Emma_Watson</td>\n",
       "      <td>link</td>\n",
       "      <td>3919</td>\n",
       "    </tr>\n",
       "    <tr>\n",
       "      <th>20552379</th>\n",
       "      <td>other-yahoo</td>\n",
       "      <td>Emma_Watson</td>\n",
       "      <td>external</td>\n",
       "      <td>3428</td>\n",
       "    </tr>\n",
       "  </tbody>\n",
       "</table>\n",
       "</div>"
      ],
      "text/plain": [
       "                                      prev         curr      type       n\n",
       "16789767                      other-google  Emma_Watson  external  186288\n",
       "25504458                       other-empty  Emma_Watson  external   92830\n",
       "20878093                   other-wikipedia  Emma_Watson  external    9025\n",
       "7434448   Beauty_and_the_Beast_(2017_film)  Emma_Watson      link    7823\n",
       "9505005         Harry_Potter_(film_series)  Emma_Watson      link    5779\n",
       "21100462                        other-bing  Emma_Watson  external    5077\n",
       "7046373                        other-other  Emma_Watson  external    5070\n",
       "17933285                  Hermione_Granger  Emma_Watson      link    4066\n",
       "12511344                  Daniel_Radcliffe  Emma_Watson      link    3919\n",
       "20552379                       other-yahoo  Emma_Watson  external    3428"
      ]
     },
     "execution_count": 223,
     "metadata": {},
     "output_type": "execute_result"
    }
   ],
   "source": [
    "df[df['curr'] == 'Emma_Watson'].sort_values('n', ascending=False)[:10]"
   ]
  },
  {
   "cell_type": "code",
   "execution_count": 237,
   "metadata": {
    "collapsed": true
   },
   "outputs": [],
   "source": [
    "cast2film_df = pd.DataFrame()\n",
    "\n",
    "for actor in cast:\n",
    "    for title in film_titles:\n",
    "        cast2film_df = pd.concat([cast2film_df, \n",
    "                                  df[(df['curr'] == title) & (df['prev'] == actor)]])"
   ]
  },
  {
   "cell_type": "code",
   "execution_count": 258,
   "metadata": {
    "collapsed": false
   },
   "outputs": [
    {
     "data": {
      "text/html": [
       "<div>\n",
       "<table border=\"1\" class=\"dataframe\">\n",
       "  <thead>\n",
       "    <tr style=\"text-align: right;\">\n",
       "      <th></th>\n",
       "      <th>prev</th>\n",
       "      <th>curr</th>\n",
       "      <th>type</th>\n",
       "      <th>n</th>\n",
       "    </tr>\n",
       "  </thead>\n",
       "  <tbody>\n",
       "    <tr>\n",
       "      <th>3075897</th>\n",
       "      <td>Daniel_Radcliffe</td>\n",
       "      <td>Harry_Potter_and_the_Philosopher's_Stone_(film)</td>\n",
       "      <td>link</td>\n",
       "      <td>2232</td>\n",
       "    </tr>\n",
       "    <tr>\n",
       "      <th>16219530</th>\n",
       "      <td>Daniel_Radcliffe</td>\n",
       "      <td>Harry_Potter_and_the_Chamber_of_Secrets_(film)</td>\n",
       "      <td>link</td>\n",
       "      <td>660</td>\n",
       "    </tr>\n",
       "    <tr>\n",
       "      <th>11164302</th>\n",
       "      <td>Daniel_Radcliffe</td>\n",
       "      <td>Harry_Potter_and_the_Prisoner_of_Azkaban_(film)</td>\n",
       "      <td>link</td>\n",
       "      <td>642</td>\n",
       "    </tr>\n",
       "    <tr>\n",
       "      <th>6783200</th>\n",
       "      <td>Daniel_Radcliffe</td>\n",
       "      <td>Harry_Potter_and_the_Goblet_of_Fire_(film)</td>\n",
       "      <td>link</td>\n",
       "      <td>614</td>\n",
       "    </tr>\n",
       "    <tr>\n",
       "      <th>14196147</th>\n",
       "      <td>Daniel_Radcliffe</td>\n",
       "      <td>Harry_Potter_and_the_Order_of_the_Phoenix_(film)</td>\n",
       "      <td>link</td>\n",
       "      <td>602</td>\n",
       "    </tr>\n",
       "  </tbody>\n",
       "</table>\n",
       "</div>"
      ],
      "text/plain": [
       "                      prev                                              curr  \\\n",
       "3075897   Daniel_Radcliffe   Harry_Potter_and_the_Philosopher's_Stone_(film)   \n",
       "16219530  Daniel_Radcliffe    Harry_Potter_and_the_Chamber_of_Secrets_(film)   \n",
       "11164302  Daniel_Radcliffe   Harry_Potter_and_the_Prisoner_of_Azkaban_(film)   \n",
       "6783200   Daniel_Radcliffe        Harry_Potter_and_the_Goblet_of_Fire_(film)   \n",
       "14196147  Daniel_Radcliffe  Harry_Potter_and_the_Order_of_the_Phoenix_(film)   \n",
       "\n",
       "          type     n  \n",
       "3075897   link  2232  \n",
       "16219530  link   660  \n",
       "11164302  link   642  \n",
       "6783200   link   614  \n",
       "14196147  link   602  "
      ]
     },
     "execution_count": 258,
     "metadata": {},
     "output_type": "execute_result"
    }
   ],
   "source": [
    "cast2film_df.head()"
   ]
  },
  {
   "cell_type": "code",
   "execution_count": 244,
   "metadata": {
    "collapsed": false
   },
   "outputs": [
    {
     "data": {
      "text/html": [
       "<div>\n",
       "<table border=\"1\" class=\"dataframe\">\n",
       "  <thead>\n",
       "    <tr style=\"text-align: right;\">\n",
       "      <th></th>\n",
       "      <th>n</th>\n",
       "    </tr>\n",
       "    <tr>\n",
       "      <th>prev</th>\n",
       "      <th></th>\n",
       "    </tr>\n",
       "  </thead>\n",
       "  <tbody>\n",
       "    <tr>\n",
       "      <th>Daniel_Radcliffe</th>\n",
       "      <td>7806</td>\n",
       "    </tr>\n",
       "    <tr>\n",
       "      <th>Emma_Watson</th>\n",
       "      <td>4919</td>\n",
       "    </tr>\n",
       "    <tr>\n",
       "      <th>Alan_Rickman</th>\n",
       "      <td>1577</td>\n",
       "    </tr>\n",
       "    <tr>\n",
       "      <th>Rupert_Grint</th>\n",
       "      <td>1304</td>\n",
       "    </tr>\n",
       "    <tr>\n",
       "      <th>Tom_Felton</th>\n",
       "      <td>1079</td>\n",
       "    </tr>\n",
       "    <tr>\n",
       "      <th>Richard_Harris</th>\n",
       "      <td>654</td>\n",
       "    </tr>\n",
       "    <tr>\n",
       "      <th>Ralph_Fiennes</th>\n",
       "      <td>576</td>\n",
       "    </tr>\n",
       "    <tr>\n",
       "      <th>Michael_Gambon</th>\n",
       "      <td>58</td>\n",
       "    </tr>\n",
       "  </tbody>\n",
       "</table>\n",
       "</div>"
      ],
      "text/plain": [
       "                     n\n",
       "prev                  \n",
       "Daniel_Radcliffe  7806\n",
       "Emma_Watson       4919\n",
       "Alan_Rickman      1577\n",
       "Rupert_Grint      1304\n",
       "Tom_Felton        1079\n",
       "Richard_Harris     654\n",
       "Ralph_Fiennes      576\n",
       "Michael_Gambon      58"
      ]
     },
     "execution_count": 244,
     "metadata": {},
     "output_type": "execute_result"
    }
   ],
   "source": [
    "cast2film_df.groupby('prev').sum().sort_values('n', ascending=False)"
   ]
  },
  {
   "cell_type": "code",
   "execution_count": 257,
   "metadata": {
    "collapsed": false
   },
   "outputs": [
    {
     "data": {
      "text/html": [
       "\n",
       "<html>\n",
       "  <head>\n",
       "    <script type=\"text/javascript\" src=\"https://www.gstatic.com/charts/loader.js\"></script>\n",
       "    <script type=\"text/javascript\">\n",
       "      google.charts.setOnLoadCallback(drawChart);\n",
       "\n",
       "      function drawChart() {\n",
       "        var data = new google.visualization.DataTable();\n",
       "        data.addColumn('string', 'From');\n",
       "        data.addColumn('string', 'To');\n",
       "        data.addColumn('number', 'Weight');\n",
       "        data.addRows([\n",
       "          [ 'Emma_Watson', \"HP 1 (Philosopher's Stone)\", 1289 ],\n",
       "          [ 'Emma_Watson', 'HP 2 (Chamber of Secrets)', 413 ],\n",
       "          [ 'Emma_Watson', 'HP 3 (Prisoner of Azkaban)', 431 ],\n",
       "          [ 'Emma_Watson', 'HP 4 (Goblet of Fire)', 491 ],\n",
       "          [ 'Emma_Watson', 'HP 5 (Order of the Phoenix)', 397 ],\n",
       "          [ 'Emma_Watson', 'HP 6 (Half-Blood Prince)', 452 ],\n",
       "          [ 'Emma_Watson', 'HP 7 (Deathly Hallows–Part 1)', 413 ],\n",
       "          [ 'Emma_Watson', 'HP 7 (Deathly Hallows–Part 2)', 1033 ],\n",
       "          [ 'Daniel_Radcliffe', \"HP 1 (Philosopher's Stone)\", 2232 ],\n",
       "          [ 'Daniel_Radcliffe', 'HP 2 (Chamber of Secrets)', 660 ],\n",
       "          [ 'Daniel_Radcliffe', 'HP 3 (Prisoner of Azkaban)', 642 ],\n",
       "          [ 'Daniel_Radcliffe', 'HP 4 (Goblet of Fire)', 614 ],\n",
       "          [ 'Daniel_Radcliffe', 'HP 5 (Order of the Phoenix)', 602 ],\n",
       "          [ 'Daniel_Radcliffe', 'HP 6 (Half-Blood Prince)', 722 ],\n",
       "          [ 'Daniel_Radcliffe', 'HP 7 (Deathly Hallows–Part 1)', 615 ],\n",
       "          [ 'Daniel_Radcliffe', 'HP 7 (Deathly Hallows–Part 2)', 1719 ],\n",
       "          [ 'Rupert_Grint', \"HP 1 (Philosopher's Stone)\", 290 ],\n",
       "          [ 'Rupert_Grint', 'HP 2 (Chamber of Secrets)', 98 ],\n",
       "          [ 'Rupert_Grint', 'HP 3 (Prisoner of Azkaban)', 102 ],\n",
       "          [ 'Rupert_Grint', 'HP 4 (Goblet of Fire)', 76 ],\n",
       "          [ 'Rupert_Grint', 'HP 5 (Order of the Phoenix)', 123 ],\n",
       "          [ 'Rupert_Grint', 'HP 6 (Half-Blood Prince)', 111 ],\n",
       "          [ 'Rupert_Grint', 'HP 7 (Deathly Hallows–Part 1)', 125 ],\n",
       "          [ 'Rupert_Grint', 'HP 7 (Deathly Hallows–Part 2)', 379 ]\n",
       "        ]);\n",
       "\n",
       "        // Sets chart options.\n",
       "        var options = {\n",
       "          width: 600,\n",
       "        };\n",
       "\n",
       "        // Instantiates and draws our chart, passing in some options.\n",
       "        var chart = new google.visualization.Sankey(document.getElementById('sankey_basic'));\n",
       "        chart.draw(data, options);\n",
       "      }\n",
       "    </script>\n",
       "  </head>\n",
       "  <body>\n",
       "    <div id=\"sankey_basic\" style=\"width: 900px; height: 300px;\"></div>\n",
       "  </body>\n",
       "</html>"
      ],
      "text/plain": [
       "<IPython.core.display.HTML object>"
      ]
     },
     "metadata": {},
     "output_type": "display_data"
    }
   ],
   "source": [
    "%%html\n",
    "\n",
    "<html>\n",
    "  <head>\n",
    "    <script type=\"text/javascript\" src=\"https://www.gstatic.com/charts/loader.js\"></script>\n",
    "    <script type=\"text/javascript\">\n",
    "      google.charts.setOnLoadCallback(drawChart);\n",
    "\n",
    "      function drawChart() {\n",
    "        var data = new google.visualization.DataTable();\n",
    "        data.addColumn('string', 'From');\n",
    "        data.addColumn('string', 'To');\n",
    "        data.addColumn('number', 'Weight');\n",
    "        data.addRows([\n",
    "          [ 'Emma_Watson', \"HP 1 (Philosopher's Stone)\", 1289 ],\n",
    "          [ 'Emma_Watson', 'HP 2 (Chamber of Secrets)', 413 ],\n",
    "          [ 'Emma_Watson', 'HP 3 (Prisoner of Azkaban)', 431 ],\n",
    "          [ 'Emma_Watson', 'HP 4 (Goblet of Fire)', 491 ],\n",
    "          [ 'Emma_Watson', 'HP 5 (Order of the Phoenix)', 397 ],\n",
    "          [ 'Emma_Watson', 'HP 6 (Half-Blood Prince)', 452 ],\n",
    "          [ 'Emma_Watson', 'HP 7 (Deathly Hallows–Part 1)', 413 ],\n",
    "          [ 'Emma_Watson', 'HP 7 (Deathly Hallows–Part 2)', 1033 ],\n",
    "          [ 'Daniel_Radcliffe', \"HP 1 (Philosopher's Stone)\", 2232 ],\n",
    "          [ 'Daniel_Radcliffe', 'HP 2 (Chamber of Secrets)', 660 ],\n",
    "          [ 'Daniel_Radcliffe', 'HP 3 (Prisoner of Azkaban)', 642 ],\n",
    "          [ 'Daniel_Radcliffe', 'HP 4 (Goblet of Fire)', 614 ],\n",
    "          [ 'Daniel_Radcliffe', 'HP 5 (Order of the Phoenix)', 602 ],\n",
    "          [ 'Daniel_Radcliffe', 'HP 6 (Half-Blood Prince)', 722 ],\n",
    "          [ 'Daniel_Radcliffe', 'HP 7 (Deathly Hallows–Part 1)', 615 ],\n",
    "          [ 'Daniel_Radcliffe', 'HP 7 (Deathly Hallows–Part 2)', 1719 ],\n",
    "          [ 'Rupert_Grint', \"HP 1 (Philosopher's Stone)\", 290 ],\n",
    "          [ 'Rupert_Grint', 'HP 2 (Chamber of Secrets)', 98 ],\n",
    "          [ 'Rupert_Grint', 'HP 3 (Prisoner of Azkaban)', 102 ],\n",
    "          [ 'Rupert_Grint', 'HP 4 (Goblet of Fire)', 76 ],\n",
    "          [ 'Rupert_Grint', 'HP 5 (Order of the Phoenix)', 123 ],\n",
    "          [ 'Rupert_Grint', 'HP 6 (Half-Blood Prince)', 111 ],\n",
    "          [ 'Rupert_Grint', 'HP 7 (Deathly Hallows–Part 1)', 125 ],\n",
    "          [ 'Rupert_Grint', 'HP 7 (Deathly Hallows–Part 2)', 379 ]\n",
    "        ]);\n",
    "\n",
    "        // Sets chart options.\n",
    "        var options = {\n",
    "          width: 600,\n",
    "        };\n",
    "\n",
    "        // Instantiates and draws our chart, passing in some options.\n",
    "        var chart = new google.visualization.Sankey(document.getElementById('sankey_basic'));\n",
    "        chart.draw(data, options);\n",
    "      }\n",
    "    </script>\n",
    "  </head>\n",
    "  <body>\n",
    "    <div id=\"sankey_basic\" style=\"width: 900px; height: 300px;\"></div>\n",
    "  </body>\n",
    "</html>"
   ]
  },
  {
   "cell_type": "code",
   "execution_count": null,
   "metadata": {
    "collapsed": true
   },
   "outputs": [],
   "source": []
  }
 ],
 "metadata": {
  "kernelspec": {
   "display_name": "Python 2",
   "language": "python",
   "name": "python2"
  },
  "language_info": {
   "codemirror_mode": {
    "name": "ipython",
    "version": 2
   },
   "file_extension": ".py",
   "mimetype": "text/x-python",
   "name": "python",
   "nbconvert_exporter": "python",
   "pygments_lexer": "ipython2",
   "version": "2.7.11"
  }
 },
 "nbformat": 4,
 "nbformat_minor": 0
}
